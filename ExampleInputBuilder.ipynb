{
 "cells": [
  {
   "cell_type": "markdown",
   "metadata": {},
   "source": [
    "# Building your PLUMED input file within Python\n",
    "\n",
    "Here you can see some example showing how to use the Python input builder for PLUMED. The goal of this builder is to simplify the construction of PLUMED input files in a Python workflow by providing:\n",
    "1. Autocompletion of action names and arguments.\n",
    "2. Fast access to PLUMED documentation using Python docstrings.\n",
    "3. Automatic translation of python lists, tuples, and ranges, also taking care of PLUMED braces.\n",
    "4. Interactive detection of errors."
   ]
  },
  {
   "cell_type": "code",
   "execution_count": 1,
   "metadata": {},
   "outputs": [
    {
     "data": {
      "application/javascript": [
       "IPython.notebook.set_autosave_interval(0)"
      ]
     },
     "metadata": {},
     "output_type": "display_data"
    },
    {
     "name": "stdout",
     "output_type": "stream",
     "text": [
      "Autosave disabled\n"
     ]
    }
   ],
   "source": [
    "%autosave 0\n",
    "%qtconsole"
   ]
  },
  {
   "cell_type": "markdown",
   "metadata": {},
   "source": [
    "The first thing that you should do is to import the relevant Python module and construct an InputBuilder object"
   ]
  },
  {
   "cell_type": "code",
   "execution_count": 2,
   "metadata": {},
   "outputs": [],
   "source": [
    "import plumed\n",
    "ib=plumed.InputBuilder()"
   ]
  },
  {
   "cell_type": "markdown",
   "metadata": {},
   "source": [
    "The `ib` object contains a full dictionary of available actions. Currently, this dictionary is built using the VIM syntax file, and the path to the VIM syntax file is found by looking at the command `plumed` in your execution path. Make sure that the `plumed` command can be executed. **The way the dictionary is constructed will change in the future**, but this seems a reasonable temporary solution to allow you loading the dictionary of an already installed PLUMED package."
   ]
  },
  {
   "cell_type": "markdown",
   "metadata": {},
   "source": [
    "### Using the InputBuilder\n",
    "\n",
    "At this point you will be able to use the `ib` object to create PLUMED input lines. Any PLUMED action can be created using a method of object `ib`, and arguments for that method can be used to supply the necessary keywords. The first argument by default will be interpreted as the label of the action, and can be omitted. All the other arguments are keyword-only arguments.\n",
    "\n",
    "If you use this sheet interactively, notice that you can use `<TAB>` to complete both actions and arguments names, and that you can use `SHIFT+<TAB>` to access to a short documentation of the given action. This documentation is currently the same one installed in the VIM syntax.\n",
    "\n",
    "Arguments can be provided as plain strings as in this example:"
   ]
  },
  {
   "cell_type": "code",
   "execution_count": 3,
   "metadata": {},
   "outputs": [
    {
     "data": {
      "text/plain": [
       "'phi: TORSION ATOMS=5,7,9,15\\n'"
      ]
     },
     "execution_count": 3,
     "metadata": {},
     "output_type": "execute_result"
    }
   ],
   "source": [
    "ib.TORSION(\"phi\",ATOMS=\"5,7,9,15\")"
   ]
  },
  {
   "cell_type": "markdown",
   "metadata": {},
   "source": [
    "Notice that if you use a space-separated list the input builder will provide braces for you. "
   ]
  },
  {
   "cell_type": "code",
   "execution_count": 4,
   "metadata": {},
   "outputs": [
    {
     "data": {
      "text/plain": [
       "'phi: TORSION ATOMS={5 7 9 15}\\n'"
      ]
     },
     "execution_count": 4,
     "metadata": {},
     "output_type": "execute_result"
    }
   ],
   "source": [
    "ib.TORSION(\"phi\",ATOMS=\"5 7 9 15\")"
   ]
  },
  {
   "cell_type": "markdown",
   "metadata": {},
   "source": [
    "This means that you can easily pass more complex arguments such as those required for switching functions"
   ]
  },
  {
   "cell_type": "code",
   "execution_count": 5,
   "metadata": {},
   "outputs": [
    {
     "data": {
      "text/plain": [
       "'COORDINATION GROUPA=1-10 GROUPB=11-20 SWITCH={RATIONAL NN=6 R_0=1}\\n'"
      ]
     },
     "execution_count": 5,
     "metadata": {},
     "output_type": "execute_result"
    }
   ],
   "source": [
    "ib.COORDINATION(GROUPA=\"1-10\",GROUPB=\"11-20\",SWITCH=\"RATIONAL NN=6 R_0=1\")"
   ]
  },
  {
   "cell_type": "markdown",
   "metadata": {},
   "source": [
    "Any tab or newline is replaced with a single space. Thus you can put long lists on multiple lines if you prefer"
   ]
  },
  {
   "cell_type": "code",
   "execution_count": 6,
   "metadata": {},
   "outputs": [
    {
     "data": {
      "text/plain": [
       "'COORDINATION GROUPA={   1 2 3 4 5 6 7 8 9 10   } GROUPB={   11 12 13 14 15 16 17 18 19 20   } SWITCH={   RATIONAL NN=6 R_0=1   }\\n'"
      ]
     },
     "execution_count": 6,
     "metadata": {},
     "output_type": "execute_result"
    }
   ],
   "source": [
    "ib.COORDINATION(GROUPA=\"\"\"\n",
    "  1 2 3 4 5 6 7 8 9 10\n",
    "  \"\"\",GROUPB=\"\"\"\n",
    "  11 12 13 14 15 16 17 18 19 20\n",
    "  \"\"\",SWITCH=\"\"\"\n",
    "  RATIONAL NN=6 R_0=1\n",
    "  \"\"\")"
   ]
  },
  {
   "cell_type": "markdown",
   "metadata": {},
   "source": [
    "Flags can be passed as booleans"
   ]
  },
  {
   "cell_type": "code",
   "execution_count": 7,
   "metadata": {},
   "outputs": [
    {
     "data": {
      "text/plain": [
       "'d: DISTANCE ATOMS={11 21} NOPBC\\n'"
      ]
     },
     "execution_count": 7,
     "metadata": {},
     "output_type": "execute_result"
    }
   ],
   "source": [
    "ib.DISTANCE(\"d\",ATOMS=\"11 21\",NOPBC=True)"
   ]
  },
  {
   "cell_type": "markdown",
   "metadata": {},
   "source": [
    "Notice that passing a false flag or not passing the flag at all lead to the same result"
   ]
  },
  {
   "cell_type": "code",
   "execution_count": 8,
   "metadata": {},
   "outputs": [
    {
     "data": {
      "text/plain": [
       "('d: DISTANCE ATOMS={11 21}\\n', 'd: DISTANCE ATOMS={11 21}\\n')"
      ]
     },
     "execution_count": 8,
     "metadata": {},
     "output_type": "execute_result"
    }
   ],
   "source": [
    "ib.DISTANCE(\"d\",ATOMS=\"11 21\",NOPBC=False), ib.DISTANCE(\"d\",ATOMS=\"11 21\")"
   ]
  },
  {
   "cell_type": "markdown",
   "metadata": {},
   "source": [
    "### Numerical arguments\n",
    "So far we passed arguments as strings. If you pass them as numbers, they will just be formatted into strings:"
   ]
  },
  {
   "cell_type": "code",
   "execution_count": 9,
   "metadata": {},
   "outputs": [
    {
     "data": {
      "text/plain": [
       "'METAD ARG={phi psi} FILE=HILLS HEIGHT=1.2 PACE=500 SIGMA={0.35 0.35}\\n'"
      ]
     },
     "execution_count": 9,
     "metadata": {},
     "output_type": "execute_result"
    }
   ],
   "source": [
    "ib.METAD(ARG=\"phi psi\",PACE=500,HEIGHT=1.2,SIGMA=\"0.35 0.35\",FILE=\"HILLS\")"
   ]
  },
  {
   "cell_type": "markdown",
   "metadata": {},
   "source": [
    "Notice that in this example the label has been omitted. As usual, PLUMED will provide a default label."
   ]
  },
  {
   "cell_type": "markdown",
   "metadata": {},
   "source": [
    "### Passing lists or tuples\n",
    "It is also possible to pass ranges, lists, tuples, or numpy arrays. Anything that is iterable will be converted to a space separated list."
   ]
  },
  {
   "cell_type": "code",
   "execution_count": 10,
   "metadata": {},
   "outputs": [
    {
     "data": {
      "text/plain": [
       "'g: GROUP ATOMS={1 2 3 4 5 6 7 8 9 10 11 12 13 14 15 16 17 18 19 20 21 22 23 24 25 26 27 28 29 30 31 32 33 34 35 36 37 38 39 40 41 42 43 44 45 46 47 48 49 50 51 52 53 54 55 56 57 58 59 60 61 62 63 64 65 66 67 68 69 70 71 72 73 74 75 76 77 78 79 80 81 82 83 84 85 86 87 88 89 90 91 92 93 94 95 96 97 98 99 100}\\n'"
      ]
     },
     "execution_count": 10,
     "metadata": {},
     "output_type": "execute_result"
    }
   ],
   "source": [
    "ib.GROUP(\"g\",ATOMS=range(1,101))"
   ]
  },
  {
   "cell_type": "markdown",
   "metadata": {},
   "source": [
    "Notice that you can obtain an equivalent result with `ib.GROUP(\"g\",ATOMS=\"1-100\")`.\n",
    "\n",
    "You can have lists of strings, lists of numbers, or also heterogenous lists. All combinations should work as expected"
   ]
  },
  {
   "cell_type": "code",
   "execution_count": 11,
   "metadata": {},
   "outputs": [
    {
     "data": {
      "text/plain": [
       "'METAD ARG={phi psi} FILE=HILLS HEIGHT=1.2 PACE=500 SIGMA={0.35 pi/8}\\n'"
      ]
     },
     "execution_count": 11,
     "metadata": {},
     "output_type": "execute_result"
    }
   ],
   "source": [
    "ib.METAD(ARG=(\"phi\",\"psi\"),PACE=500,HEIGHT=1.2,SIGMA=(0.35,\"pi/8\"),FILE=\"HILLS\")"
   ]
  },
  {
   "cell_type": "markdown",
   "metadata": {},
   "source": [
    "### Numbered arguments\n",
    "\n",
    "Some plumed actions require \"numbered\" arguments. You have two ways to pass those. One possibility is to append directly append the number of the argument to the keyword name:"
   ]
  },
  {
   "cell_type": "code",
   "execution_count": 12,
   "metadata": {},
   "outputs": [
    {
     "data": {
      "text/plain": [
       "'MOVINGRESTRAINT ARG=d1 AT0=20 AT1=20 KAPPA0=0 KAPPA1=10.0 STEP0=1 STEP1=10000\\n'"
      ]
     },
     "execution_count": 12,
     "metadata": {},
     "output_type": "execute_result"
    }
   ],
   "source": [
    "ib.MOVINGRESTRAINT(ARG=\"d1\",KAPPA0=0,KAPPA1=10.0,AT0=20,AT1=20,STEP0=1,STEP1=10000)"
   ]
  },
  {
   "cell_type": "markdown",
   "metadata": {},
   "source": [
    "Notice that in this manner you will not be able to use python structures to list the values.\n",
    "\n",
    "The `numbered()` function makes it simpler to specify multiple values. You can pass multiple a list/tuple:"
   ]
  },
  {
   "cell_type": "code",
   "execution_count": 13,
   "metadata": {},
   "outputs": [
    {
     "data": {
      "text/plain": [
       "'MOVINGRESTRAINT ARG=d1 AT0=20 AT1=20 KAPPA0=0 KAPPA1=10.0 STEP0=1 STEP1=10000\\n'"
      ]
     },
     "execution_count": 13,
     "metadata": {},
     "output_type": "execute_result"
    }
   ],
   "source": [
    "ib.MOVINGRESTRAINT(ARG=\"d1\",KAPPA=ib.numbered([0,10.0]),AT=ib.numbered([20,20]),STEP=ib.numbered([1,10000]))"
   ]
  },
  {
   "cell_type": "markdown",
   "metadata": {},
   "source": [
    "If you want to pass a single element you should pass it as a list with one element (see next example).\n",
    "\n",
    "Notice that in some cases it is not necessary to insert all the indeces. E.g., for a `MOVINGRESTRAINT` you might want to skip some `AT` values if the restraint is not expected to move in the time window. For maximum flexibility you can pass a dictionary with integer keys"
   ]
  },
  {
   "cell_type": "code",
   "execution_count": 14,
   "metadata": {},
   "outputs": [
    {
     "data": {
      "text/plain": [
       "'MOVINGRESTRAINT ARG=d1 AT0=0.0 AT2=10.0 KAPPA0=100 STEP0=0 STEP1=10 STEP2=20 STEP3=30\\n'"
      ]
     },
     "execution_count": 14,
     "metadata": {},
     "output_type": "execute_result"
    }
   ],
   "source": [
    "ib.MOVINGRESTRAINT(ARG=\"d1\",KAPPA=ib.numbered([100]),AT=ib.numbered({0:0.0,2:10.0}),STEP=ib.numbered((0,10,20,30)))"
   ]
  },
  {
   "cell_type": "markdown",
   "metadata": {},
   "source": [
    "The command will be correctly formatted also when you have lists/tuples of lists/tuples."
   ]
  },
  {
   "cell_type": "code",
   "execution_count": 15,
   "metadata": {},
   "outputs": [
    {
     "data": {
      "text/plain": [
       "'MOVINGRESTRAINT ARG=d1,d2 AT0={0.0 1.0} AT1={2.0 3.0} KAPPA0=11 STEP0=0 STEP1=100\\n'"
      ]
     },
     "execution_count": 15,
     "metadata": {},
     "output_type": "execute_result"
    }
   ],
   "source": [
    "ib.MOVINGRESTRAINT(ARG=\"d1,d2\",\n",
    "                     KAPPA=ib.numbered([11]),\n",
    "                     AT=ib.numbered(((0.0,1.0),(2.0,3.0))),\n",
    "                     STEP=ib.numbered((0,100)))"
   ]
  },
  {
   "cell_type": "markdown",
   "metadata": {},
   "source": [
    "Strings can be mixed with numbers also in this case"
   ]
  },
  {
   "cell_type": "code",
   "execution_count": 16,
   "metadata": {},
   "outputs": [
    {
     "data": {
      "text/plain": [
       "'MOVINGRESTRAINT ARG=d1,d2 AT0={0.0 pi} AT1={2.0 pi} KAPPA0=100 STEP0=0 STEP1=100\\n'"
      ]
     },
     "execution_count": 16,
     "metadata": {},
     "output_type": "execute_result"
    }
   ],
   "source": [
    "ib.MOVINGRESTRAINT(ARG=\"d1,d2\",\n",
    "                     KAPPA=ib.numbered([100]),AT=ib.numbered(([0.0,\"pi\"],[2.0,\"pi\"])),\n",
    "                     STEP=ib.numbered((0,100)))"
   ]
  },
  {
   "cell_type": "markdown",
   "metadata": {},
   "source": [
    "### Replica syntax\n",
    "\n",
    "In case you want to use the replica syntax (introduced in plumed 2.4) you can use the `replicas` shortcut. You can pass multiple arguments or lists/tuples. Here the restraints will be located at 0, 1, 2, and 3 in four replicas:"
   ]
  },
  {
   "cell_type": "code",
   "execution_count": 17,
   "metadata": {},
   "outputs": [
    {
     "data": {
      "text/plain": [
       "'RESTRAINT ARG=d1 AT=@replicas:{0.0 1.0 2.0 3.0} KAPPA=10\\n'"
      ]
     },
     "execution_count": 17,
     "metadata": {},
     "output_type": "execute_result"
    }
   ],
   "source": [
    "ib.RESTRAINT(ARG=\"d1\",KAPPA=10,AT=ib.replicas((0.0,1.0,2.0,3.0)))"
   ]
  },
  {
   "cell_type": "markdown",
   "metadata": {},
   "source": [
    "Here the restraints will be generated as equally spaced:"
   ]
  },
  {
   "cell_type": "code",
   "execution_count": 18,
   "metadata": {},
   "outputs": [
    {
     "data": {
      "text/plain": [
       "'RESTRAINT ARG=d1 AT=@replicas:{3.0 3.125 3.25 3.375 3.5 3.625 3.75 3.875 4.0 4.125 4.25 4.375 4.5 4.625 4.75 4.875 5.0} KAPPA=10\\n'"
      ]
     },
     "execution_count": 18,
     "metadata": {},
     "output_type": "execute_result"
    }
   ],
   "source": [
    "import numpy as np\n",
    "ib.RESTRAINT(ARG=\"d1\",KAPPA=10,AT=ib.replicas(np.linspace(3.0,5.0,17)))"
   ]
  },
  {
   "cell_type": "markdown",
   "metadata": {},
   "source": [
    "The command will be correctly formatted also when you have lists/tuples of lists/tuples. Here the restraints will be located at (0,1) in first replica and in (10,11) in second replica\n"
   ]
  },
  {
   "cell_type": "code",
   "execution_count": 19,
   "metadata": {},
   "outputs": [
    {
     "data": {
      "text/plain": [
       "'RESTRAINT ARG=d1,d2 AT=@replicas:{{0.0 1.0} {10.0 11.0}} KAPPA={10 10}\\n'"
      ]
     },
     "execution_count": 19,
     "metadata": {},
     "output_type": "execute_result"
    }
   ],
   "source": [
    "ib.RESTRAINT(ARG=\"d1,d2\",KAPPA=(10,10),AT=ib.replicas(([0.0,1.0],[10.0,11.0])))"
   ]
  },
  {
   "cell_type": "markdown",
   "metadata": {},
   "source": [
    "## Atom selection\n",
    "\n",
    "PLUMED has a number of shortcuts for atom selection (e.g. `@phi-1`). You might want to use the `ib.at` tool to build them. For instance:"
   ]
  },
  {
   "cell_type": "code",
   "execution_count": 20,
   "metadata": {},
   "outputs": [
    {
     "data": {
      "text/plain": [
       "'@phi-6'"
      ]
     },
     "execution_count": 20,
     "metadata": {},
     "output_type": "execute_result"
    }
   ],
   "source": [
    "ib.at.phi(6)"
   ]
  },
  {
   "cell_type": "markdown",
   "metadata": {},
   "source": [
    "You can pass a chain as well, and both residue and chain can be lists/tuples (in which case they will be iterated). Chains can be strings or numbers. In case they are numbers they will be appended a `_` to be distinguished by the residue number."
   ]
  },
  {
   "cell_type": "code",
   "execution_count": 21,
   "metadata": {},
   "outputs": [
    {
     "data": {
      "text/plain": [
       "'@phi-A1 @phi-A2 @phi-A3 @phi-A4 @phi-A5 @phi-A6 @phi-A7 @phi-A8 @phi-A9 @phi-A10'"
      ]
     },
     "execution_count": 21,
     "metadata": {},
     "output_type": "execute_result"
    }
   ],
   "source": [
    "ib.at.phi(range(1,11),\"A\")"
   ]
  },
  {
   "cell_type": "code",
   "execution_count": 22,
   "metadata": {},
   "outputs": [
    {
     "data": {
      "text/plain": [
       "'@phi-A1 @phi-A2 @phi-A3 @phi-A4 @phi-A5 @phi-A6 @phi-A7 @phi-A8 @phi-A9 @phi-A10 @phi-B1 @phi-B2 @phi-B3 @phi-B4 @phi-B5 @phi-B6 @phi-B7 @phi-B8 @phi-B9 @phi-B10'"
      ]
     },
     "execution_count": 22,
     "metadata": {},
     "output_type": "execute_result"
    }
   ],
   "source": [
    "ib.at.phi(range(1,11),[\"A\",\"B\"])"
   ]
  },
  {
   "cell_type": "code",
   "execution_count": 23,
   "metadata": {},
   "outputs": [
    {
     "data": {
      "text/plain": [
       "'@phi-1_4 @phi-2_4'"
      ]
     },
     "execution_count": 23,
     "metadata": {},
     "output_type": "execute_result"
    }
   ],
   "source": [
    "ib.at.phi(4,[1,2])"
   ]
  },
  {
   "cell_type": "markdown",
   "metadata": {},
   "source": [
    "Notice that available shortcuts (e.g. `phi`, `psi`, etc) are encoded as functions so that you can see them typing `ib.at.<TAB>`. Additionally, you might select individual atoms by directly calling the `at` object as in the following example:"
   ]
  },
  {
   "cell_type": "code",
   "execution_count": 24,
   "metadata": {},
   "outputs": [
    {
     "data": {
      "text/plain": [
       "'@OW-20 @OW-21 @OW-22 @OW-23 @OW-24 @OW-25 @OW-26 @OW-27 @OW-28 @OW-29 @OW-30 @OW-31 @OW-32 @OW-33 @OW-34 @OW-35 @OW-36 @OW-37 @OW-38 @OW-39'"
      ]
     },
     "execution_count": 24,
     "metadata": {},
     "output_type": "execute_result"
    }
   ],
   "source": [
    "ib.at(\"OW\",range(20,40))"
   ]
  },
  {
   "cell_type": "markdown",
   "metadata": {},
   "source": [
    "Finally, there are a few groups that do not take the residue/chain argument. Those do not receive any argument"
   ]
  },
  {
   "cell_type": "code",
   "execution_count": 25,
   "metadata": {},
   "outputs": [
    {
     "data": {
      "text/plain": [
       "'@mdatoms'"
      ]
     },
     "execution_count": 25,
     "metadata": {},
     "output_type": "execute_result"
    }
   ],
   "source": [
    "ib.at.mdatoms"
   ]
  },
  {
   "cell_type": "markdown",
   "metadata": {},
   "source": [
    "### Advanced atom selections with MDAnalysis\n",
    "\n",
    "If [MDAnalysis](https://www.mdanalysis.org/) is installed, you can pass an atom Group to PLUMED. The indexes will be correctly translated to PLUMED serial numbers (1-base)."
   ]
  },
  {
   "cell_type": "code",
   "execution_count": 26,
   "metadata": {},
   "outputs": [
    {
     "name": "stderr",
     "output_type": "stream",
     "text": [
      "/opt/local/Library/Frameworks/Python.framework/Versions/3.7/lib/python3.7/site-packages/MDAnalysis/topology/PDBParser.py:330: UserWarning: Element information is absent or missing for a few atoms. Elements attributes will not be populated.\n",
      "  warnings.warn(\"Element information is absent or missing for a few \"\n"
     ]
    },
    {
     "data": {
      "text/plain": [
       "'rna: GROUP ATOMS={1 2 3 4 5 6 7 8 9 10 11 12 13 14 15 16 17 18 19 20 21 22 23 24 25 26 27 28 29 30 31 32 33 34 35 36 37 38 39 40 41 42 43 44 45 46 47 48 49 50 51 52 53 54 55 56 57 58 59 60 61 62 63 64 65 66 67 68 69 70 71 72 73 74 75 76 77 78 79 80 81 82 83 84 85 86 87 88 89 90 91 92 93 94 95 96 97 98 99 100 101 102 103 104 105 106 107 108 109 110 111 112 113 114 115 116 117 118 119 120 121 122 123 124 125 126 127 128 129 130 131 132 133 134 135 136 137 138 139 140 141 142 143 144 145 146 147 148 149 150 151 152 153 154 155 156 157 158 159 160 161 162 163 164 165 166 167 168 169 170 171 172 173 174 175 176 177 178 179 180 181 182 183 184 185 186 187 188 189 190 191 192 193 194 195 196 197 198 199 200 201 202 203 204 205 206 207 208 209 210 211 212 213 214 215 216 217 218 219 220 221 222 223 224 225 226 227 228 229 230 231 232 233 234 235 236 237 238 239 240 241 242 243 244 245 246 247 248 249 250 251 252 253 254 255 256 257 258}\\n'"
      ]
     },
     "execution_count": 26,
     "metadata": {},
     "output_type": "execute_result"
    }
   ],
   "source": [
    "import MDAnalysis\n",
    "universe=MDAnalysis.Universe(\"ref.pdb\")\n",
    "ib.GROUP(\"rna\",ATOMS=universe.select_atoms(\"nucleic\"))"
   ]
  },
  {
   "cell_type": "markdown",
   "metadata": {},
   "source": [
    "### Customizing the output\n",
    "By default we use spaces as separator. In case you prefer commas you can use the option `comma_separator`"
   ]
  },
  {
   "cell_type": "code",
   "execution_count": 27,
   "metadata": {},
   "outputs": [
    {
     "data": {
      "text/plain": [
       "'g1: GROUP ATOMS=1,2,3,4,5,6,7,8,9,10\\n'"
      ]
     },
     "execution_count": 27,
     "metadata": {},
     "output_type": "execute_result"
    }
   ],
   "source": [
    "ib1=plumed.InputBuilder(comma_separator=True)\n",
    "ib1.GROUP(\"g1\",ATOMS=[1,2,3,4,5,6,7,8,9,10])"
   ]
  },
  {
   "cell_type": "markdown",
   "metadata": {},
   "source": [
    "## Passing arbitrary strings\n",
    "\n",
    "You can also provide an arbitrary string using the `verbatim` argument. In this case you should take care of all the formatting issues (i.e., no braces will be added)."
   ]
  },
  {
   "cell_type": "code",
   "execution_count": 28,
   "metadata": {},
   "outputs": [
    {
     "data": {
      "text/plain": [
       "'RESTRAINT ARG=d1,d2 AT={10 20} KAPPA={5 6}\\n'"
      ]
     },
     "execution_count": 28,
     "metadata": {},
     "output_type": "execute_result"
    }
   ],
   "source": [
    "ib.RESTRAINT(ARG=\"d1,d2\",verbatim=\"AT={10 20} KAPPA={5 6}\")"
   ]
  },
  {
   "cell_type": "markdown",
   "metadata": {},
   "source": [
    "Entire arbitrary lines can be provided with the `verbatim` method. Might be useful for inserting comments or actions that are not correctly parsed in the InputBuilder dictionary"
   ]
  },
  {
   "cell_type": "code",
   "execution_count": 29,
   "metadata": {},
   "outputs": [
    {
     "data": {
      "text/plain": [
       "'# here is a comment\\n'"
      ]
     },
     "execution_count": 29,
     "metadata": {},
     "output_type": "execute_result"
    }
   ],
   "source": [
    "ib.verbatim(\"# here is a comment\")"
   ]
  },
  {
   "cell_type": "markdown",
   "metadata": {},
   "source": [
    "In both these cases, newlines and tabs occuring within the passed string will be replaced with single spaces."
   ]
  },
  {
   "cell_type": "markdown",
   "metadata": {},
   "source": [
    "## Accessing the history\n",
    "\n",
    "You can see the history of all the commands created with a builder by examining the `ib.history` list:"
   ]
  },
  {
   "cell_type": "code",
   "execution_count": 30,
   "metadata": {},
   "outputs": [
    {
     "name": "stdout",
     "output_type": "stream",
     "text": [
      "phi: TORSION ATOMS=5,7,9,15\n",
      "phi: TORSION ATOMS={5 7 9 15}\n",
      "COORDINATION GROUPA=1-10 GROUPB=11-20 SWITCH={RATIONAL NN=6 R_0=1}\n",
      "COORDINATION GROUPA={   1 2 3 4 5 6 7 8 9 10   } GROUPB={   11 12 13 14 15 16 17 18 19 20   } SWITCH={   RATIONAL NN=6 R_0=1   }\n",
      "d: DISTANCE ATOMS={11 21} NOPBC\n",
      "d: DISTANCE ATOMS={11 21}\n",
      "d: DISTANCE ATOMS={11 21}\n",
      "METAD ARG={phi psi} FILE=HILLS HEIGHT=1.2 PACE=500 SIGMA={0.35 0.35}\n",
      "g: GROUP ATOMS={1 2 3 4 5 6 7 8 9 10 11 12 13 14 15 16 17 18 19 20 21 22 23 24 25 26 27 28 29 30 31 32 33 34 35 36 37 38 39 40 41 42 43 44 45 46 47 48 49 50 51 52 53 54 55 56 57 58 59 60 61 62 63 64 65 66 67 68 69 70 71 72 73 74 75 76 77 78 79 80 81 82 83 84 85 86 87 88 89 90 91 92 93 94 95 96 97 98 99 100}\n",
      "METAD ARG={phi psi} FILE=HILLS HEIGHT=1.2 PACE=500 SIGMA={0.35 pi/8}\n",
      "MOVINGRESTRAINT ARG=d1 AT0=20 AT1=20 KAPPA0=0 KAPPA1=10.0 STEP0=1 STEP1=10000\n",
      "MOVINGRESTRAINT ARG=d1 AT0=20 AT1=20 KAPPA0=0 KAPPA1=10.0 STEP0=1 STEP1=10000\n",
      "MOVINGRESTRAINT ARG=d1 AT0=0.0 AT2=10.0 KAPPA0=100 STEP0=0 STEP1=10 STEP2=20 STEP3=30\n",
      "MOVINGRESTRAINT ARG=d1,d2 AT0={0.0 1.0} AT1={2.0 3.0} KAPPA0=11 STEP0=0 STEP1=100\n",
      "MOVINGRESTRAINT ARG=d1,d2 AT0={0.0 pi} AT1={2.0 pi} KAPPA0=100 STEP0=0 STEP1=100\n",
      "RESTRAINT ARG=d1 AT=@replicas:{0.0 1.0 2.0 3.0} KAPPA=10\n",
      "RESTRAINT ARG=d1 AT=@replicas:{3.0 3.125 3.25 3.375 3.5 3.625 3.75 3.875 4.0 4.125 4.25 4.375 4.5 4.625 4.75 4.875 5.0} KAPPA=10\n",
      "RESTRAINT ARG=d1,d2 AT=@replicas:{{0.0 1.0} {10.0 11.0}} KAPPA={10 10}\n",
      "rna: GROUP ATOMS={1 2 3 4 5 6 7 8 9 10 11 12 13 14 15 16 17 18 19 20 21 22 23 24 25 26 27 28 29 30 31 32 33 34 35 36 37 38 39 40 41 42 43 44 45 46 47 48 49 50 51 52 53 54 55 56 57 58 59 60 61 62 63 64 65 66 67 68 69 70 71 72 73 74 75 76 77 78 79 80 81 82 83 84 85 86 87 88 89 90 91 92 93 94 95 96 97 98 99 100 101 102 103 104 105 106 107 108 109 110 111 112 113 114 115 116 117 118 119 120 121 122 123 124 125 126 127 128 129 130 131 132 133 134 135 136 137 138 139 140 141 142 143 144 145 146 147 148 149 150 151 152 153 154 155 156 157 158 159 160 161 162 163 164 165 166 167 168 169 170 171 172 173 174 175 176 177 178 179 180 181 182 183 184 185 186 187 188 189 190 191 192 193 194 195 196 197 198 199 200 201 202 203 204 205 206 207 208 209 210 211 212 213 214 215 216 217 218 219 220 221 222 223 224 225 226 227 228 229 230 231 232 233 234 235 236 237 238 239 240 241 242 243 244 245 246 247 248 249 250 251 252 253 254 255 256 257 258}\n",
      "RESTRAINT ARG=d1,d2 AT={10 20} KAPPA={5 6}\n",
      "# here is a comment\n"
     ]
    }
   ],
   "source": [
    "for line in ib.history:\n",
    "    print(line)"
   ]
  },
  {
   "cell_type": "markdown",
   "metadata": {},
   "source": [
    "## Creating an input file\n",
    "\n",
    "So far you have seen that the methods of `InputBuilder` return strings containing properly formatted plumed input lines. You might chain them in order to produce a long string of \\n separated lines that you can then use in a real calculation. This is the suggested path if you use MD engines such as OpenMM-PLUMED."
   ]
  },
  {
   "cell_type": "code",
   "execution_count": 31,
   "metadata": {},
   "outputs": [
    {
     "name": "stdout",
     "output_type": "stream",
     "text": [
      "# compute CVs\n",
      "phi: TORSION ATOMS=@phi-1\n",
      "psi: TORSION ATOMS={7 9 15 17}\n",
      "# do metadynamics\n",
      "METAD ARG={phi psi} HEIGHT=1.2 PACE=500 SIGMA={0.35 0.35}\n",
      "\n"
     ]
    }
   ],
   "source": [
    "s=\"\"\n",
    "s+=ib.verbatim(\"# compute CVs\")\n",
    "s+=ib.TORSION(\"phi\",ATOMS=\"@phi-1\")\n",
    "s+=ib.TORSION(\"psi\",ATOMS=[7,9,15,17])\n",
    "s+=ib.verbatim(\"# do metadynamics\")\n",
    "s+=ib.METAD(ARG=(\"phi\",\"psi\"),PACE=500,HEIGHT=1.2,SIGMA=(0.35,0.35))\n",
    "print(s)"
   ]
  },
  {
   "cell_type": "markdown",
   "metadata": {},
   "source": [
    "In order to use the input file with an MD code reading a `plumed.dat` file (such as GROMACS) you can dump the input on a file with the following command\n",
    "\n",
    "````\n",
    "with open(\"plumed.dat\",\"w\") as file:\n",
    "    print(s,file=file)\n",
    "````\n",
    "Alternatively, you can create an input builder using the `tofile` option."
   ]
  },
  {
   "cell_type": "code",
   "execution_count": 32,
   "metadata": {},
   "outputs": [],
   "source": [
    "with open(\"plumed.dat\",\"w\") as file:\n",
    "    ibf=plumed.InputBuilder(tofile=file)\n",
    "    ibf.verbatim(\"# compute CVs\")\n",
    "    ibf.TORSION(\"phi\",ATOMS=\"@phi-1\")\n",
    "    ibf.TORSION(\"psi\",ATOMS=[7,9,15,17])\n",
    "    ibf.verbatim(\"# do metadynamics\")\n",
    "    ibf.METAD(ARG=(\"phi\",\"psi\"),PACE=500,HEIGHT=1.2,SIGMA=(0.35,0.35))"
   ]
  },
  {
   "cell_type": "code",
   "execution_count": 33,
   "metadata": {},
   "outputs": [
    {
     "name": "stdout",
     "output_type": "stream",
     "text": [
      "# compute CVs\r\n",
      "phi: TORSION ATOMS=@phi-1\r\n",
      "psi: TORSION ATOMS={7 9 15 17}\r\n",
      "# do metadynamics\r\n",
      "METAD ARG={phi psi} HEIGHT=1.2 PACE=500 SIGMA={0.35 0.35}\r\n"
     ]
    }
   ],
   "source": [
    "!cat plumed.dat"
   ]
  },
  {
   "cell_type": "markdown",
   "metadata": {},
   "source": [
    "## Redirecting to a Plumed object\n",
    "\n",
    "If you are using the python wrappers to PLUMED, you might want to redirect the plumed input to a Plumed object. Here is a minimal example. Notice that in order to properly parse the input plumed typically only needs to know the number of atoms. You might want to also set the Boltzmann constant or other quantities with the corresponding `cmd` instructions."
   ]
  },
  {
   "cell_type": "code",
   "execution_count": 34,
   "metadata": {},
   "outputs": [
    {
     "data": {
      "text/plain": [
       "516"
      ]
     },
     "execution_count": 34,
     "metadata": {},
     "output_type": "execute_result"
    }
   ],
   "source": [
    "import plumed\n",
    "plu=plumed.Plumed()\n",
    "ibp=plumed.InputBuilder(toplumed=plu)\n",
    "plu.cmd(\"setNatoms\",10)\n",
    "plu.cmd(\"init\")\n",
    "ibp.DISTANCE(\"d\",ATOMS=(1,2))\n",
    "ibp.RESTRAINT(ARG=\"d\",AT=10,KAPPA=10)\n",
    "ibp.verbatim(\"DISTANCE LABEL=cc ATOMS={10 2}\")\n",
    "del ibp\n",
    "del plu\n",
    "import gc\n",
    "gc.collect()\n",
    "# Notice that PLUMED output will go to the console!"
   ]
  },
  {
   "cell_type": "markdown",
   "metadata": {},
   "source": [
    "## Building your input interactively"
   ]
  },
  {
   "cell_type": "markdown",
   "metadata": {},
   "source": [
    "You can use both the `toplumed` and the `tofile` options simultaneously. This is interesting if you just want to build your input file interactively."
   ]
  },
  {
   "cell_type": "code",
   "execution_count": 35,
   "metadata": {},
   "outputs": [
    {
     "data": {
      "text/plain": [
       "516"
      ]
     },
     "execution_count": 35,
     "metadata": {},
     "output_type": "execute_result"
    }
   ],
   "source": [
    "import plumed\n",
    "plu=plumed.Plumed()\n",
    "with open(\"plumed2.dat\",\"w\") as file:\n",
    "    ibp=plumed.InputBuilder(toplumed=plu,tofile=file)\n",
    "    plu.cmd(\"setNatoms\",10)\n",
    "    plu.cmd(\"init\")\n",
    "    ibp.DISTANCE(\"d1\",ATOMS=(1,2))\n",
    "    # This is an error (atom out of range:)\n",
    "    # ibp.DISTANCE(\"d2\",ATOMS=(1,11))\n",
    "    ibp.DISTANCE(\"d2\",ATOMS=(1,10))\n",
    "del ibp\n",
    "del plu\n",
    "import gc\n",
    "gc.collect()"
   ]
  },
  {
   "cell_type": "markdown",
   "metadata": {},
   "source": [
    "The importat thing to notice is that if you make a mistake you can then continue to construct your input. At the end of the procedure, `plumed2.dat` will contain a plumed input file that contains only the correct lines and that can be then used in a simulation."
   ]
  },
  {
   "cell_type": "code",
   "execution_count": 36,
   "metadata": {},
   "outputs": [
    {
     "name": "stdout",
     "output_type": "stream",
     "text": [
      "d1: DISTANCE ATOMS={1 2}\r\n",
      "d2: DISTANCE ATOMS={1 10}\r\n"
     ]
    }
   ],
   "source": [
    "!cat plumed2.dat"
   ]
  },
  {
   "cell_type": "markdown",
   "metadata": {},
   "source": [
    "## Analyzing a trajectory with mdtraj\n",
    "\n",
    "To run the following example you need the mdtraj package.\n",
    "\n",
    "We will first read the trajectory and initialize the input builder:"
   ]
  },
  {
   "cell_type": "code",
   "execution_count": 37,
   "metadata": {},
   "outputs": [],
   "source": [
    "import mdtraj\n",
    "import numpy as np\n",
    "import re\n",
    "\n",
    "traj = mdtraj.load(\"traj-whole.xtc\",top=\"ref.pdb\")\n",
    "\n",
    "p=plumed.Plumed()\n",
    "p.cmd(\"setNatoms\",traj.n_atoms)\n",
    "p.cmd(\"init\")\n",
    "builder=plumed.InputBuilder(toplumed=p)"
   ]
  },
  {
   "cell_type": "markdown",
   "metadata": {},
   "source": [
    "Now you can construct your input file interactively. This is taken from the first Trieste tutorial. Atom selections are however done using mdtraj commands. Notice that **atom indexes need to be incremented by 1** (mdtraj numbers start from zero). Groups made with MDAnalysis (see above) do not suffer this problem since PLUMED can recognize them and treat them correctly.\n",
    "\n",
    "The produced strings are immediately fed to the `p` object, so that an error is immediately detected."
   ]
  },
  {
   "cell_type": "code",
   "execution_count": 38,
   "metadata": {},
   "outputs": [
    {
     "name": "stdout",
     "output_type": "stream",
     "text": [
      "MOLINFO STRUCTURE=ref.pdb\n",
      "r: GYRATION ATOMS={1 2 3 4 5 6 7 8 9 10 11 12 13 14 15 16 17 18 19 20 21 22 23 24 25 26 27 28 29 30 31 32 33 34 35 36 37 38 39 40 41 42 43 44 45 46 47 48 49 50 51 52 53 54 55 56 57 58 59 60 61 62 63 64 65 66 67 68 69 70 71 72 73 74 75 76 77 78 79 80 81 82 83 84 85 86 87 88 89 90 91 92 93 94 95 96 97 98 99 100 101 102 103 104 105 106 107 108 109 110 111 112 113 114 115 116 117 118 119 120 121 122 123 124 125 126 127 128 129 130 131 132 133 134 135 136 137 138 139 140 141 142 143 144 145 146 147 148 149 150 151 152 153 154 155 156 157 158 159 160 161 162 163 164 165 166 167 168 169 170 171 172 173 174 175 176 177 178 179 180 181 182 183 184 185 186 187 188 189 190 191 192 193 194 195 196 197 198 199 200 201 202 203 204 205 206 207 208 209 210 211 212 213 214 215 216 217 218 219 220 221 222 223 224 225 226 227 228 229 230 231 232 233 234 235 236 237 238 239 240 241 242 243 244 245 246 247 248 249 250 251 252 253 254 255 256 257 258}\n",
      "c: TORSION ATOMS=@chi-1\n",
      "co: COORDINATION GROUPA={1 2 3 4 5 6 7 8 9 10 11 12 13 14 15 16 17 18 19 20 21 22 23 24 25 26 27 28 29 30 31 32 33 34 35 36 37 38 39 40 41 42 43 44 45 46 47 48 49 50 51 52 53 54 55 56 57 58 59 60 61 62 63 64 65 66 67 68 69 70 71 72 73 74 75 76 77 78 79 80 81 82 83 84 85 86 87 88 89 90 91 92 93 94 95 96 97 98 99 100 101 102 103 104 105 106 107 108 109 110 111 112 113 114 115 116 117 118 119 120 121 122 123 124 125 126 127 128 129 130 131 132 133 134 135 136 137 138 139 140 141 142 143 144 145 146 147 148 149 150 151 152 153 154 155 156 157 158 159 160 161 162 163 164 165 166 167 168 169 170 171 172 173 174 175 176 177 178 179 180 181 182 183 184 185 186 187 188 189 190 191 192 193 194 195 196 197 198 199 200 201 202 203 204 205 206 207 208 209 210 211 212 213 214 215 216 217 218 219 220 221 222 223 224 225 226 227 228 229 230 231 232 233 234 235 236 237 238 239 240 241 242 243 244 245 246 247 248 249 250 251 252 253 254 255 256 257 258} GROUPB={259 262 265 268 271 274 277 280 283 286 289 292 295 298 301 304 307 310 313 316 319 322 325 328 331 334 337 340 343 346 349 352 355 358 361 364 367 370 373 376 379 382 385 388 391 394 397 400 403 406 409 412 415 418 421 424 427 430 433 436 439 442 445 448 451 454 457 460 463 466 469 472 475 478 481 484 487 490 493 496 499 502 505 508 511 514 517 520 523 526 529 532 535 538 541 544 547 550 553 556 559 562 565 568 571 574 577 580 583 586 589 592 595 598 601 604 607 610 613 616 619 622 625 628 631 634 637 640 643 646 649 652 655 658 661 664 667 670 673 676 679 682 685 688 691 694 697 700 703 706 709 712 715 718 721 724 727 730 733 736 739 742 745 748 751 754 757 760 763 766 769 772 775 778 781 784 787 790 793 796 799 802 805 808 811 814 817 820 823 826 829 832 835 838 841 844 847 850 853 856 859 862 865 868 871 874 877 880 883 886 889 892 895 898 901 904 907 910 913 916 919 922 925 928 931 934 937 940 943 946 949 952 955 958 961 964 967 970 973 976 979 982 985 988 991 994 997 1000 1003 1006 1009 1012 1015 1018 1021 1024 1027 1030 1033 1036 1039 1042 1045 1048 1051 1054 1057 1060 1063 1066 1069 1072 1075 1078 1081 1084 1087 1090 1093 1096 1099 1102 1105 1108 1111 1114 1117 1120 1123 1126 1129 1132 1135 1138 1141 1144 1147 1150 1153 1156 1159 1162 1165 1168 1171 1174 1177 1180 1183 1186 1189 1192 1195 1198 1201 1204 1207 1210 1213 1216 1219 1222 1225 1228 1231 1234 1237 1240 1243 1246 1249 1252 1255 1258 1261 1264 1267 1270 1273 1276 1279 1282 1285 1288 1291 1294 1297 1300 1303 1306 1309 1312 1315 1318 1321 1324 1327 1330 1333 1336 1339 1342 1345 1348 1351 1354 1357 1360 1363 1366 1369 1372 1375 1378 1381 1384 1387 1390 1393 1396 1399 1402 1405 1408 1411 1414 1417 1420 1423 1426 1429 1432 1435 1438 1441 1444 1447 1450 1453 1456 1459 1462 1465 1468 1471 1474 1477 1480 1483 1486 1489 1492 1495 1498 1501 1504 1507 1510 1513 1516 1519 1522 1525 1528 1531 1534 1537 1540 1543 1546 1549 1552 1555 1558 1561 1564 1567 1570 1573 1576 1579 1582 1585 1588 1591 1594 1597 1600 1603 1606 1609 1612 1615 1618 1621 1624 1627 1630 1633 1636 1639 1642 1645 1648 1651 1654 1657 1660 1663 1666 1669 1672 1675 1678 1681 1684 1687 1690 1693 1696 1699 1702 1705 1708 1711 1714 1717 1720 1723 1726 1729 1732 1735 1738 1741 1744 1747 1750 1753 1756 1759 1762 1765 1768 1771 1774 1777 1780 1783 1786 1789 1792 1795 1798 1801 1804 1807 1810 1813 1816 1819 1822 1825 1828 1831 1834 1837 1840 1843 1846 1849 1852 1855 1858 1861 1864 1867 1870 1873 1876 1879 1882 1885 1888 1891 1894 1897 1900 1903 1906 1909 1912 1915 1918 1921 1924 1927 1930 1933 1936 1939 1942 1945 1948 1951 1954 1957 1960 1963 1966 1969 1972 1975 1978 1981 1984 1987 1990 1993 1996 1999 2002 2005 2008 2011 2014 2017 2020 2023 2026 2029 2032 2035 2038 2041 2044 2047 2050 2053 2056 2059 2062 2065 2068 2071 2074 2077 2080 2083 2086 2089 2092 2095 2098 2101 2104 2107 2110 2113 2116 2119 2122 2125 2128 2131 2134 2137 2140 2143 2146 2149 2152 2155 2158 2161 2164 2167 2170 2173 2176 2179 2182 2185 2188 2191 2194 2197 2200 2203 2206 2209 2212 2215 2218 2221 2224 2227 2230 2233 2236 2239 2242 2245 2248 2251 2254 2257 2260 2263 2266 2269 2272 2275 2278 2281 2284 2287 2290 2293 2296 2299 2302 2305 2308 2311 2314 2317 2320 2323 2326 2329 2332 2335 2338 2341 2344 2347 2350 2353 2356 2359 2362 2365 2368 2371 2374 2377 2380 2383 2386 2389 2392 2395 2398 2401 2404 2407 2410 2413 2416 2419 2422 2425 2428 2431 2434 2437 2440 2443 2446 2449 2452 2455 2458 2461 2464 2467 2470 2473 2476 2479 2482 2485 2488 2491 2494 2497 2500 2503 2506 2509 2512 2515 2518 2521 2524 2527 2530 2533 2536 2539 2542 2545 2548 2551 2554 2557 2560 2563 2566 2569 2572 2575 2578 2581 2584 2587 2590 2593 2596 2599 2602 2605 2608 2611 2614 2617 2620 2623 2626 2629 2632 2635 2638 2641 2644 2647 2650 2653 2656 2659 2662 2665 2668 2671 2674 2677 2680 2683 2686 2689 2692 2695 2698 2701 2704 2707 2710 2713 2716 2719 2722 2725 2728 2731 2734 2737 2740 2743 2746 2749 2752 2755 2758 2761 2764 2767 2770 2773 2776 2779 2782 2785 2788 2791 2794 2797 2800 2803 2806 2809 2812 2815 2818 2821 2824 2827 2830 2833 2836 2839 2842 2845 2848 2851 2854 2857 2860 2863 2866 2869 2872 2875 2878 2881 2884 2887 2890 2893 2896 2899 2902 2905 2908 2911 2914 2917 2920 2923 2926 2929 2932 2935 2938 2941 2944 2947 2950 2953 2956 2959 2962 2965 2968 2971 2974 2977 2980 2983 2986 2989 2992 2995 2998 3001 3004 3007 3010 3013 3016 3019 3022 3025 3028 3031 3034 3037 3040 3043 3046 3049 3052 3055 3058 3061 3064 3067 3070 3073 3076 3079 3082 3085 3088 3091 3094 3097 3100 3103 3106 3109 3112 3115 3118 3121 3124 3127 3130 3133 3136 3139 3142 3145 3148 3151 3154 3157 3160 3163 3166 3169 3172 3175 3178 3181 3184 3187 3190 3193 3196 3199 3202 3205 3208 3211 3214 3217 3220 3223 3226 3229 3232 3235 3238 3241 3244 3247 3250 3253 3256 3259 3262 3265 3268 3271 3274 3277 3280 3283 3286 3289 3292 3295 3298 3301 3304 3307 3310 3313 3316 3319 3322 3325 3328 3331 3334 3337 3340 3343 3346 3349 3352 3355 3358 3361 3364 3367 3370 3373 3376 3379 3382 3385 3388 3391 3394 3397 3400 3403 3406 3409 3412 3415 3418 3421 3424 3427 3430 3433 3436 3439 3442 3445 3448 3451 3454 3457 3460 3463 3466 3469 3472 3475 3478 3481 3484 3487 3490 3493 3496 3499 3502 3505 3508 3511 3514 3517 3520 3523 3526 3529 3532 3535 3538 3541 3544 3547 3550 3553 3556 3559 3562 3565 3568 3571 3574 3577 3580 3583 3586 3589 3592 3595 3598 3601 3604 3607 3610 3613 3616 3619 3622 3625 3628 3631 3634 3637 3640 3643 3646 3649 3652 3655 3658 3661 3664 3667 3670 3673 3676 3679 3682 3685 3688 3691 3694 3697 3700 3703 3706 3709 3712 3715 3718 3721 3724 3727 3730 3733 3736 3739 3742 3745 3748 3751 3754 3757 3760 3763 3766 3769 3772 3775 3778 3781 3784 3787 3790 3793 3796 3799 3802 3805 3808 3811 3814 3817 3820 3823 3826 3829 3832 3835 3838 3841 3844 3847 3850 3853 3856 3859 3862 3865 3868 3871 3874 3877 3880 3883 3886 3889 3892 3895 3898 3901 3904 3907 3910 3913 3916 3919 3922 3925 3928 3931 3934 3937 3940 3943 3946 3949 3952 3955 3958 3961 3964 3967 3970 3973 3976 3979 3982 3985 3988 3991 3994 3997 4000 4003 4006 4009 4012 4015 4018 4021 4024 4027 4030 4033 4036 4039 4042 4045 4048 4051 4054 4057 4060 4063 4066 4069 4072 4075 4078 4081 4084 4087 4090 4093 4096 4099 4102 4105 4108 4111 4114 4117 4120 4123 4126 4129 4132 4135 4138 4141 4144 4147 4150 4153 4156 4159 4162 4165 4168 4171 4174 4177 4180 4183 4186 4189 4192 4195 4198 4201 4204 4207 4210 4213 4216 4219 4222 4225 4228 4231 4234 4237 4240 4243 4246 4249 4252 4255 4258 4261 4264 4267 4270 4273 4276 4279 4282 4285 4288 4291 4294 4297 4300 4303 4306 4309 4312 4315 4318 4321 4324 4327 4330 4333 4336 4339 4342 4345 4348 4351 4354 4357 4360 4363 4366 4369 4372 4375 4378 4381 4384 4387 4390 4393 4396 4399 4402 4405 4408 4411 4414 4417 4420 4423 4426 4429 4432 4435 4438 4441 4444 4447 4450 4453 4456 4459 4462 4465 4468 4471 4474 4477 4480 4483 4486 4489 4492 4495 4498 4501 4504 4507 4510 4513 4516 4519 4522 4525 4528 4531 4534 4537 4540 4543 4546 4549 4552 4555 4558 4561 4564 4567 4570 4573 4576 4579 4582 4585 4588 4591 4594 4597 4600 4603 4606 4609 4612 4615 4618 4621 4624 4627 4630 4633 4636 4639 4642 4645 4648 4651 4654 4657 4660 4663 4666 4669 4672 4675 4678 4681 4684 4687 4690 4693 4696 4699 4702 4705 4708 4711 4714 4717 4720 4723 4726 4729 4732 4735 4738 4741 4744 4747 4750 4753 4756 4759 4762 4765 4768 4771 4774 4777 4780 4783 4786 4789 4792 4795 4798 4801 4804 4807 4810 4813 4816 4819 4822 4825 4828 4831 4834 4837 4840 4843 4846 4849 4852 4855 4858 4861 4864 4867 4870 4873 4876 4879 4882 4885 4888 4891 4894 4897 4900 4903 4906 4909 4912 4915 4918 4921 4924 4927 4930 4933 4936 4939 4942 4945 4948 4951 4954 4957 4960 4963 4966 4969 4972 4975 4978 4981 4984 4987 4990 4993 4996 4999 5002 5005 5008 5011 5014 5017 5020 5023 5026 5029 5032 5035 5038 5041 5044 5047 5050 5053 5056 5059 5062 5065 5068 5071 5074 5077 5080 5083 5086 5089 5092 5095 5098 5101 5104 5107 5110 5113 5116 5119 5122 5125 5128 5131 5134 5137 5140 5143 5146 5149 5152 5155 5158 5161 5164 5167 5170 5173 5176 5179 5182 5185 5188 5191 5194 5197 5200 5203 5206 5209 5212 5215 5218 5221 5224 5227 5230 5233 5236 5239 5242 5245 5248 5251 5254 5257 5260 5263 5266 5269 5272 5275 5278 5281 5284 5287 5290 5293 5296 5299 5302 5305 5308 5311 5314 5317 5320 5323 5326 5329 5332 5335 5338 5341 5344 5347 5350 5353 5356 5359 5362 5365 5368 5371 5374 5377 5380 5383 5386 5389 5392 5395 5398 5401 5404 5407 5410 5413 5416 5419 5422 5425 5428 5431 5434 5437 5440 5443 5446 5449 5452 5455 5458 5461 5464 5467 5470 5473 5476 5479 5482 5485 5488 5491 5494 5497 5500 5503 5506 5509 5512 5515 5518 5521 5524 5527 5530 5533 5536 5539 5542 5545 5548 5551 5554 5557 5560 5563 5566 5569 5572 5575 5578 5581 5584 5587 5590 5593 5596 5599 5602 5605 5608 5611 5614 5617 5620 5623 5626 5629 5632 5635 5638 5641 5644 5647 5650 5653 5656 5659 5662 5665 5668 5671 5674 5677 5680 5683 5686 5689 5692 5695 5698 5701 5704 5707 5710 5713 5716 5719 5722 5725 5728 5731 5734 5737 5740 5743 5746 5749 5752 5755 5758 5761 5764 5767 5770 5773 5776 5779 5782 5785 5788 5791 5794 5797 5800 5803 5806 5809 5812 5815 5818 5821 5824 5827 5830 5833 5836 5839 5842 5845 5848 5851 5854 5857 5860 5863 5866 5869 5872 5875 5878 5881 5884 5887 5890 5893 5896 5899 5902 5905 5908 5911 5914 5917 5920 5923 5926 5929 5932 5935 5938 5941 5944 5947 5950 5953 5956 5959 5962 5965 5968 5971 5974 5977 5980 5983 5986 5989 5992 5995 5998 6001 6004 6007 6010 6013 6016 6019 6022 6025 6028 6031 6034 6037 6040 6043 6046 6049 6052 6055 6058 6061 6064 6067 6070 6073 6076 6079 6082 6085 6088 6091 6094 6097 6100 6103 6106 6109 6112 6115 6118 6121 6124 6127 6130 6133 6136 6139 6142 6145 6148 6151 6154 6157 6160 6163 6166 6169 6172 6175 6178 6181 6184 6187 6190 6193 6196 6199 6202 6205 6208 6211 6214 6217 6220 6223 6226 6229 6232 6235 6238 6241 6244 6247 6250 6253 6256 6259 6262 6265 6268 6271 6274 6277 6280 6283 6286 6289 6292 6295 6298 6301 6304 6307 6310 6313 6316 6319 6322 6325 6328 6331 6334 6337 6340 6343 6346 6349 6352 6355 6358 6361 6364 6367 6370 6373 6376 6379 6382 6385 6388 6391 6394 6397 6400 6403 6406 6409 6412 6415 6418 6421 6424 6427 6430 6433 6436 6439 6442 6445 6448 6451 6454 6457 6460 6463 6466 6469 6472 6475 6478 6481 6484 6487 6490 6493 6496 6499 6502 6505 6508 6511 6514 6517 6520 6523 6526 6529 6532 6535 6538 6541 6544 6547 6550 6553 6556 6559 6562 6565 6568 6571 6574 6577} R_0=0.25\n",
      "ch: COORDINATION GROUPA={1 2 3 4 5 6 7 8 9 10 11 12 13 14 15 16 17 18 19 20 21 22 23 24 25 26 27 28 29 30 31 32 33 34 35 36 37 38 39 40 41 42 43 44 45 46 47 48 49 50 51 52 53 54 55 56 57 58 59 60 61 62 63 64 65 66 67 68 69 70 71 72 73 74 75 76 77 78 79 80 81 82 83 84 85 86 87 88 89 90 91 92 93 94 95 96 97 98 99 100 101 102 103 104 105 106 107 108 109 110 111 112 113 114 115 116 117 118 119 120 121 122 123 124 125 126 127 128 129 130 131 132 133 134 135 136 137 138 139 140 141 142 143 144 145 146 147 148 149 150 151 152 153 154 155 156 157 158 159 160 161 162 163 164 165 166 167 168 169 170 171 172 173 174 175 176 177 178 179 180 181 182 183 184 185 186 187 188 189 190 191 192 193 194 195 196 197 198 199 200 201 202 203 204 205 206 207 208 209 210 211 212 213 214 215 216 217 218 219 220 221 222 223 224 225 226 227 228 229 230 231 232 233 234 235 236 237 238 239 240 241 242 243 244 245 246 247 248 249 250 251 252 253 254 255 256 257 258} GROUPB={260 261 263 264 266 267 269 270 272 273 275 276 278 279 281 282 284 285 287 288 290 291 293 294 296 297 299 300 302 303 305 306 308 309 311 312 314 315 317 318 320 321 323 324 326 327 329 330 332 333 335 336 338 339 341 342 344 345 347 348 350 351 353 354 356 357 359 360 362 363 365 366 368 369 371 372 374 375 377 378 380 381 383 384 386 387 389 390 392 393 395 396 398 399 401 402 404 405 407 408 410 411 413 414 416 417 419 420 422 423 425 426 428 429 431 432 434 435 437 438 440 441 443 444 446 447 449 450 452 453 455 456 458 459 461 462 464 465 467 468 470 471 473 474 476 477 479 480 482 483 485 486 488 489 491 492 494 495 497 498 500 501 503 504 506 507 509 510 512 513 515 516 518 519 521 522 524 525 527 528 530 531 533 534 536 537 539 540 542 543 545 546 548 549 551 552 554 555 557 558 560 561 563 564 566 567 569 570 572 573 575 576 578 579 581 582 584 585 587 588 590 591 593 594 596 597 599 600 602 603 605 606 608 609 611 612 614 615 617 618 620 621 623 624 626 627 629 630 632 633 635 636 638 639 641 642 644 645 647 648 650 651 653 654 656 657 659 660 662 663 665 666 668 669 671 672 674 675 677 678 680 681 683 684 686 687 689 690 692 693 695 696 698 699 701 702 704 705 707 708 710 711 713 714 716 717 719 720 722 723 725 726 728 729 731 732 734 735 737 738 740 741 743 744 746 747 749 750 752 753 755 756 758 759 761 762 764 765 767 768 770 771 773 774 776 777 779 780 782 783 785 786 788 789 791 792 794 795 797 798 800 801 803 804 806 807 809 810 812 813 815 816 818 819 821 822 824 825 827 828 830 831 833 834 836 837 839 840 842 843 845 846 848 849 851 852 854 855 857 858 860 861 863 864 866 867 869 870 872 873 875 876 878 879 881 882 884 885 887 888 890 891 893 894 896 897 899 900 902 903 905 906 908 909 911 912 914 915 917 918 920 921 923 924 926 927 929 930 932 933 935 936 938 939 941 942 944 945 947 948 950 951 953 954 956 957 959 960 962 963 965 966 968 969 971 972 974 975 977 978 980 981 983 984 986 987 989 990 992 993 995 996 998 999 1001 1002 1004 1005 1007 1008 1010 1011 1013 1014 1016 1017 1019 1020 1022 1023 1025 1026 1028 1029 1031 1032 1034 1035 1037 1038 1040 1041 1043 1044 1046 1047 1049 1050 1052 1053 1055 1056 1058 1059 1061 1062 1064 1065 1067 1068 1070 1071 1073 1074 1076 1077 1079 1080 1082 1083 1085 1086 1088 1089 1091 1092 1094 1095 1097 1098 1100 1101 1103 1104 1106 1107 1109 1110 1112 1113 1115 1116 1118 1119 1121 1122 1124 1125 1127 1128 1130 1131 1133 1134 1136 1137 1139 1140 1142 1143 1145 1146 1148 1149 1151 1152 1154 1155 1157 1158 1160 1161 1163 1164 1166 1167 1169 1170 1172 1173 1175 1176 1178 1179 1181 1182 1184 1185 1187 1188 1190 1191 1193 1194 1196 1197 1199 1200 1202 1203 1205 1206 1208 1209 1211 1212 1214 1215 1217 1218 1220 1221 1223 1224 1226 1227 1229 1230 1232 1233 1235 1236 1238 1239 1241 1242 1244 1245 1247 1248 1250 1251 1253 1254 1256 1257 1259 1260 1262 1263 1265 1266 1268 1269 1271 1272 1274 1275 1277 1278 1280 1281 1283 1284 1286 1287 1289 1290 1292 1293 1295 1296 1298 1299 1301 1302 1304 1305 1307 1308 1310 1311 1313 1314 1316 1317 1319 1320 1322 1323 1325 1326 1328 1329 1331 1332 1334 1335 1337 1338 1340 1341 1343 1344 1346 1347 1349 1350 1352 1353 1355 1356 1358 1359 1361 1362 1364 1365 1367 1368 1370 1371 1373 1374 1376 1377 1379 1380 1382 1383 1385 1386 1388 1389 1391 1392 1394 1395 1397 1398 1400 1401 1403 1404 1406 1407 1409 1410 1412 1413 1415 1416 1418 1419 1421 1422 1424 1425 1427 1428 1430 1431 1433 1434 1436 1437 1439 1440 1442 1443 1445 1446 1448 1449 1451 1452 1454 1455 1457 1458 1460 1461 1463 1464 1466 1467 1469 1470 1472 1473 1475 1476 1478 1479 1481 1482 1484 1485 1487 1488 1490 1491 1493 1494 1496 1497 1499 1500 1502 1503 1505 1506 1508 1509 1511 1512 1514 1515 1517 1518 1520 1521 1523 1524 1526 1527 1529 1530 1532 1533 1535 1536 1538 1539 1541 1542 1544 1545 1547 1548 1550 1551 1553 1554 1556 1557 1559 1560 1562 1563 1565 1566 1568 1569 1571 1572 1574 1575 1577 1578 1580 1581 1583 1584 1586 1587 1589 1590 1592 1593 1595 1596 1598 1599 1601 1602 1604 1605 1607 1608 1610 1611 1613 1614 1616 1617 1619 1620 1622 1623 1625 1626 1628 1629 1631 1632 1634 1635 1637 1638 1640 1641 1643 1644 1646 1647 1649 1650 1652 1653 1655 1656 1658 1659 1661 1662 1664 1665 1667 1668 1670 1671 1673 1674 1676 1677 1679 1680 1682 1683 1685 1686 1688 1689 1691 1692 1694 1695 1697 1698 1700 1701 1703 1704 1706 1707 1709 1710 1712 1713 1715 1716 1718 1719 1721 1722 1724 1725 1727 1728 1730 1731 1733 1734 1736 1737 1739 1740 1742 1743 1745 1746 1748 1749 1751 1752 1754 1755 1757 1758 1760 1761 1763 1764 1766 1767 1769 1770 1772 1773 1775 1776 1778 1779 1781 1782 1784 1785 1787 1788 1790 1791 1793 1794 1796 1797 1799 1800 1802 1803 1805 1806 1808 1809 1811 1812 1814 1815 1817 1818 1820 1821 1823 1824 1826 1827 1829 1830 1832 1833 1835 1836 1838 1839 1841 1842 1844 1845 1847 1848 1850 1851 1853 1854 1856 1857 1859 1860 1862 1863 1865 1866 1868 1869 1871 1872 1874 1875 1877 1878 1880 1881 1883 1884 1886 1887 1889 1890 1892 1893 1895 1896 1898 1899 1901 1902 1904 1905 1907 1908 1910 1911 1913 1914 1916 1917 1919 1920 1922 1923 1925 1926 1928 1929 1931 1932 1934 1935 1937 1938 1940 1941 1943 1944 1946 1947 1949 1950 1952 1953 1955 1956 1958 1959 1961 1962 1964 1965 1967 1968 1970 1971 1973 1974 1976 1977 1979 1980 1982 1983 1985 1986 1988 1989 1991 1992 1994 1995 1997 1998 2000 2001 2003 2004 2006 2007 2009 2010 2012 2013 2015 2016 2018 2019 2021 2022 2024 2025 2027 2028 2030 2031 2033 2034 2036 2037 2039 2040 2042 2043 2045 2046 2048 2049 2051 2052 2054 2055 2057 2058 2060 2061 2063 2064 2066 2067 2069 2070 2072 2073 2075 2076 2078 2079 2081 2082 2084 2085 2087 2088 2090 2091 2093 2094 2096 2097 2099 2100 2102 2103 2105 2106 2108 2109 2111 2112 2114 2115 2117 2118 2120 2121 2123 2124 2126 2127 2129 2130 2132 2133 2135 2136 2138 2139 2141 2142 2144 2145 2147 2148 2150 2151 2153 2154 2156 2157 2159 2160 2162 2163 2165 2166 2168 2169 2171 2172 2174 2175 2177 2178 2180 2181 2183 2184 2186 2187 2189 2190 2192 2193 2195 2196 2198 2199 2201 2202 2204 2205 2207 2208 2210 2211 2213 2214 2216 2217 2219 2220 2222 2223 2225 2226 2228 2229 2231 2232 2234 2235 2237 2238 2240 2241 2243 2244 2246 2247 2249 2250 2252 2253 2255 2256 2258 2259 2261 2262 2264 2265 2267 2268 2270 2271 2273 2274 2276 2277 2279 2280 2282 2283 2285 2286 2288 2289 2291 2292 2294 2295 2297 2298 2300 2301 2303 2304 2306 2307 2309 2310 2312 2313 2315 2316 2318 2319 2321 2322 2324 2325 2327 2328 2330 2331 2333 2334 2336 2337 2339 2340 2342 2343 2345 2346 2348 2349 2351 2352 2354 2355 2357 2358 2360 2361 2363 2364 2366 2367 2369 2370 2372 2373 2375 2376 2378 2379 2381 2382 2384 2385 2387 2388 2390 2391 2393 2394 2396 2397 2399 2400 2402 2403 2405 2406 2408 2409 2411 2412 2414 2415 2417 2418 2420 2421 2423 2424 2426 2427 2429 2430 2432 2433 2435 2436 2438 2439 2441 2442 2444 2445 2447 2448 2450 2451 2453 2454 2456 2457 2459 2460 2462 2463 2465 2466 2468 2469 2471 2472 2474 2475 2477 2478 2480 2481 2483 2484 2486 2487 2489 2490 2492 2493 2495 2496 2498 2499 2501 2502 2504 2505 2507 2508 2510 2511 2513 2514 2516 2517 2519 2520 2522 2523 2525 2526 2528 2529 2531 2532 2534 2535 2537 2538 2540 2541 2543 2544 2546 2547 2549 2550 2552 2553 2555 2556 2558 2559 2561 2562 2564 2565 2567 2568 2570 2571 2573 2574 2576 2577 2579 2580 2582 2583 2585 2586 2588 2589 2591 2592 2594 2595 2597 2598 2600 2601 2603 2604 2606 2607 2609 2610 2612 2613 2615 2616 2618 2619 2621 2622 2624 2625 2627 2628 2630 2631 2633 2634 2636 2637 2639 2640 2642 2643 2645 2646 2648 2649 2651 2652 2654 2655 2657 2658 2660 2661 2663 2664 2666 2667 2669 2670 2672 2673 2675 2676 2678 2679 2681 2682 2684 2685 2687 2688 2690 2691 2693 2694 2696 2697 2699 2700 2702 2703 2705 2706 2708 2709 2711 2712 2714 2715 2717 2718 2720 2721 2723 2724 2726 2727 2729 2730 2732 2733 2735 2736 2738 2739 2741 2742 2744 2745 2747 2748 2750 2751 2753 2754 2756 2757 2759 2760 2762 2763 2765 2766 2768 2769 2771 2772 2774 2775 2777 2778 2780 2781 2783 2784 2786 2787 2789 2790 2792 2793 2795 2796 2798 2799 2801 2802 2804 2805 2807 2808 2810 2811 2813 2814 2816 2817 2819 2820 2822 2823 2825 2826 2828 2829 2831 2832 2834 2835 2837 2838 2840 2841 2843 2844 2846 2847 2849 2850 2852 2853 2855 2856 2858 2859 2861 2862 2864 2865 2867 2868 2870 2871 2873 2874 2876 2877 2879 2880 2882 2883 2885 2886 2888 2889 2891 2892 2894 2895 2897 2898 2900 2901 2903 2904 2906 2907 2909 2910 2912 2913 2915 2916 2918 2919 2921 2922 2924 2925 2927 2928 2930 2931 2933 2934 2936 2937 2939 2940 2942 2943 2945 2946 2948 2949 2951 2952 2954 2955 2957 2958 2960 2961 2963 2964 2966 2967 2969 2970 2972 2973 2975 2976 2978 2979 2981 2982 2984 2985 2987 2988 2990 2991 2993 2994 2996 2997 2999 3000 3002 3003 3005 3006 3008 3009 3011 3012 3014 3015 3017 3018 3020 3021 3023 3024 3026 3027 3029 3030 3032 3033 3035 3036 3038 3039 3041 3042 3044 3045 3047 3048 3050 3051 3053 3054 3056 3057 3059 3060 3062 3063 3065 3066 3068 3069 3071 3072 3074 3075 3077 3078 3080 3081 3083 3084 3086 3087 3089 3090 3092 3093 3095 3096 3098 3099 3101 3102 3104 3105 3107 3108 3110 3111 3113 3114 3116 3117 3119 3120 3122 3123 3125 3126 3128 3129 3131 3132 3134 3135 3137 3138 3140 3141 3143 3144 3146 3147 3149 3150 3152 3153 3155 3156 3158 3159 3161 3162 3164 3165 3167 3168 3170 3171 3173 3174 3176 3177 3179 3180 3182 3183 3185 3186 3188 3189 3191 3192 3194 3195 3197 3198 3200 3201 3203 3204 3206 3207 3209 3210 3212 3213 3215 3216 3218 3219 3221 3222 3224 3225 3227 3228 3230 3231 3233 3234 3236 3237 3239 3240 3242 3243 3245 3246 3248 3249 3251 3252 3254 3255 3257 3258 3260 3261 3263 3264 3266 3267 3269 3270 3272 3273 3275 3276 3278 3279 3281 3282 3284 3285 3287 3288 3290 3291 3293 3294 3296 3297 3299 3300 3302 3303 3305 3306 3308 3309 3311 3312 3314 3315 3317 3318 3320 3321 3323 3324 3326 3327 3329 3330 3332 3333 3335 3336 3338 3339 3341 3342 3344 3345 3347 3348 3350 3351 3353 3354 3356 3357 3359 3360 3362 3363 3365 3366 3368 3369 3371 3372 3374 3375 3377 3378 3380 3381 3383 3384 3386 3387 3389 3390 3392 3393 3395 3396 3398 3399 3401 3402 3404 3405 3407 3408 3410 3411 3413 3414 3416 3417 3419 3420 3422 3423 3425 3426 3428 3429 3431 3432 3434 3435 3437 3438 3440 3441 3443 3444 3446 3447 3449 3450 3452 3453 3455 3456 3458 3459 3461 3462 3464 3465 3467 3468 3470 3471 3473 3474 3476 3477 3479 3480 3482 3483 3485 3486 3488 3489 3491 3492 3494 3495 3497 3498 3500 3501 3503 3504 3506 3507 3509 3510 3512 3513 3515 3516 3518 3519 3521 3522 3524 3525 3527 3528 3530 3531 3533 3534 3536 3537 3539 3540 3542 3543 3545 3546 3548 3549 3551 3552 3554 3555 3557 3558 3560 3561 3563 3564 3566 3567 3569 3570 3572 3573 3575 3576 3578 3579 3581 3582 3584 3585 3587 3588 3590 3591 3593 3594 3596 3597 3599 3600 3602 3603 3605 3606 3608 3609 3611 3612 3614 3615 3617 3618 3620 3621 3623 3624 3626 3627 3629 3630 3632 3633 3635 3636 3638 3639 3641 3642 3644 3645 3647 3648 3650 3651 3653 3654 3656 3657 3659 3660 3662 3663 3665 3666 3668 3669 3671 3672 3674 3675 3677 3678 3680 3681 3683 3684 3686 3687 3689 3690 3692 3693 3695 3696 3698 3699 3701 3702 3704 3705 3707 3708 3710 3711 3713 3714 3716 3717 3719 3720 3722 3723 3725 3726 3728 3729 3731 3732 3734 3735 3737 3738 3740 3741 3743 3744 3746 3747 3749 3750 3752 3753 3755 3756 3758 3759 3761 3762 3764 3765 3767 3768 3770 3771 3773 3774 3776 3777 3779 3780 3782 3783 3785 3786 3788 3789 3791 3792 3794 3795 3797 3798 3800 3801 3803 3804 3806 3807 3809 3810 3812 3813 3815 3816 3818 3819 3821 3822 3824 3825 3827 3828 3830 3831 3833 3834 3836 3837 3839 3840 3842 3843 3845 3846 3848 3849 3851 3852 3854 3855 3857 3858 3860 3861 3863 3864 3866 3867 3869 3870 3872 3873 3875 3876 3878 3879 3881 3882 3884 3885 3887 3888 3890 3891 3893 3894 3896 3897 3899 3900 3902 3903 3905 3906 3908 3909 3911 3912 3914 3915 3917 3918 3920 3921 3923 3924 3926 3927 3929 3930 3932 3933 3935 3936 3938 3939 3941 3942 3944 3945 3947 3948 3950 3951 3953 3954 3956 3957 3959 3960 3962 3963 3965 3966 3968 3969 3971 3972 3974 3975 3977 3978 3980 3981 3983 3984 3986 3987 3989 3990 3992 3993 3995 3996 3998 3999 4001 4002 4004 4005 4007 4008 4010 4011 4013 4014 4016 4017 4019 4020 4022 4023 4025 4026 4028 4029 4031 4032 4034 4035 4037 4038 4040 4041 4043 4044 4046 4047 4049 4050 4052 4053 4055 4056 4058 4059 4061 4062 4064 4065 4067 4068 4070 4071 4073 4074 4076 4077 4079 4080 4082 4083 4085 4086 4088 4089 4091 4092 4094 4095 4097 4098 4100 4101 4103 4104 4106 4107 4109 4110 4112 4113 4115 4116 4118 4119 4121 4122 4124 4125 4127 4128 4130 4131 4133 4134 4136 4137 4139 4140 4142 4143 4145 4146 4148 4149 4151 4152 4154 4155 4157 4158 4160 4161 4163 4164 4166 4167 4169 4170 4172 4173 4175 4176 4178 4179 4181 4182 4184 4185 4187 4188 4190 4191 4193 4194 4196 4197 4199 4200 4202 4203 4205 4206 4208 4209 4211 4212 4214 4215 4217 4218 4220 4221 4223 4224 4226 4227 4229 4230 4232 4233 4235 4236 4238 4239 4241 4242 4244 4245 4247 4248 4250 4251 4253 4254 4256 4257 4259 4260 4262 4263 4265 4266 4268 4269 4271 4272 4274 4275 4277 4278 4280 4281 4283 4284 4286 4287 4289 4290 4292 4293 4295 4296 4298 4299 4301 4302 4304 4305 4307 4308 4310 4311 4313 4314 4316 4317 4319 4320 4322 4323 4325 4326 4328 4329 4331 4332 4334 4335 4337 4338 4340 4341 4343 4344 4346 4347 4349 4350 4352 4353 4355 4356 4358 4359 4361 4362 4364 4365 4367 4368 4370 4371 4373 4374 4376 4377 4379 4380 4382 4383 4385 4386 4388 4389 4391 4392 4394 4395 4397 4398 4400 4401 4403 4404 4406 4407 4409 4410 4412 4413 4415 4416 4418 4419 4421 4422 4424 4425 4427 4428 4430 4431 4433 4434 4436 4437 4439 4440 4442 4443 4445 4446 4448 4449 4451 4452 4454 4455 4457 4458 4460 4461 4463 4464 4466 4467 4469 4470 4472 4473 4475 4476 4478 4479 4481 4482 4484 4485 4487 4488 4490 4491 4493 4494 4496 4497 4499 4500 4502 4503 4505 4506 4508 4509 4511 4512 4514 4515 4517 4518 4520 4521 4523 4524 4526 4527 4529 4530 4532 4533 4535 4536 4538 4539 4541 4542 4544 4545 4547 4548 4550 4551 4553 4554 4556 4557 4559 4560 4562 4563 4565 4566 4568 4569 4571 4572 4574 4575 4577 4578 4580 4581 4583 4584 4586 4587 4589 4590 4592 4593 4595 4596 4598 4599 4601 4602 4604 4605 4607 4608 4610 4611 4613 4614 4616 4617 4619 4620 4622 4623 4625 4626 4628 4629 4631 4632 4634 4635 4637 4638 4640 4641 4643 4644 4646 4647 4649 4650 4652 4653 4655 4656 4658 4659 4661 4662 4664 4665 4667 4668 4670 4671 4673 4674 4676 4677 4679 4680 4682 4683 4685 4686 4688 4689 4691 4692 4694 4695 4697 4698 4700 4701 4703 4704 4706 4707 4709 4710 4712 4713 4715 4716 4718 4719 4721 4722 4724 4725 4727 4728 4730 4731 4733 4734 4736 4737 4739 4740 4742 4743 4745 4746 4748 4749 4751 4752 4754 4755 4757 4758 4760 4761 4763 4764 4766 4767 4769 4770 4772 4773 4775 4776 4778 4779 4781 4782 4784 4785 4787 4788 4790 4791 4793 4794 4796 4797 4799 4800 4802 4803 4805 4806 4808 4809 4811 4812 4814 4815 4817 4818 4820 4821 4823 4824 4826 4827 4829 4830 4832 4833 4835 4836 4838 4839 4841 4842 4844 4845 4847 4848 4850 4851 4853 4854 4856 4857 4859 4860 4862 4863 4865 4866 4868 4869 4871 4872 4874 4875 4877 4878 4880 4881 4883 4884 4886 4887 4889 4890 4892 4893 4895 4896 4898 4899 4901 4902 4904 4905 4907 4908 4910 4911 4913 4914 4916 4917 4919 4920 4922 4923 4925 4926 4928 4929 4931 4932 4934 4935 4937 4938 4940 4941 4943 4944 4946 4947 4949 4950 4952 4953 4955 4956 4958 4959 4961 4962 4964 4965 4967 4968 4970 4971 4973 4974 4976 4977 4979 4980 4982 4983 4985 4986 4988 4989 4991 4992 4994 4995 4997 4998 5000 5001 5003 5004 5006 5007 5009 5010 5012 5013 5015 5016 5018 5019 5021 5022 5024 5025 5027 5028 5030 5031 5033 5034 5036 5037 5039 5040 5042 5043 5045 5046 5048 5049 5051 5052 5054 5055 5057 5058 5060 5061 5063 5064 5066 5067 5069 5070 5072 5073 5075 5076 5078 5079 5081 5082 5084 5085 5087 5088 5090 5091 5093 5094 5096 5097 5099 5100 5102 5103 5105 5106 5108 5109 5111 5112 5114 5115 5117 5118 5120 5121 5123 5124 5126 5127 5129 5130 5132 5133 5135 5136 5138 5139 5141 5142 5144 5145 5147 5148 5150 5151 5153 5154 5156 5157 5159 5160 5162 5163 5165 5166 5168 5169 5171 5172 5174 5175 5177 5178 5180 5181 5183 5184 5186 5187 5189 5190 5192 5193 5195 5196 5198 5199 5201 5202 5204 5205 5207 5208 5210 5211 5213 5214 5216 5217 5219 5220 5222 5223 5225 5226 5228 5229 5231 5232 5234 5235 5237 5238 5240 5241 5243 5244 5246 5247 5249 5250 5252 5253 5255 5256 5258 5259 5261 5262 5264 5265 5267 5268 5270 5271 5273 5274 5276 5277 5279 5280 5282 5283 5285 5286 5288 5289 5291 5292 5294 5295 5297 5298 5300 5301 5303 5304 5306 5307 5309 5310 5312 5313 5315 5316 5318 5319 5321 5322 5324 5325 5327 5328 5330 5331 5333 5334 5336 5337 5339 5340 5342 5343 5345 5346 5348 5349 5351 5352 5354 5355 5357 5358 5360 5361 5363 5364 5366 5367 5369 5370 5372 5373 5375 5376 5378 5379 5381 5382 5384 5385 5387 5388 5390 5391 5393 5394 5396 5397 5399 5400 5402 5403 5405 5406 5408 5409 5411 5412 5414 5415 5417 5418 5420 5421 5423 5424 5426 5427 5429 5430 5432 5433 5435 5436 5438 5439 5441 5442 5444 5445 5447 5448 5450 5451 5453 5454 5456 5457 5459 5460 5462 5463 5465 5466 5468 5469 5471 5472 5474 5475 5477 5478 5480 5481 5483 5484 5486 5487 5489 5490 5492 5493 5495 5496 5498 5499 5501 5502 5504 5505 5507 5508 5510 5511 5513 5514 5516 5517 5519 5520 5522 5523 5525 5526 5528 5529 5531 5532 5534 5535 5537 5538 5540 5541 5543 5544 5546 5547 5549 5550 5552 5553 5555 5556 5558 5559 5561 5562 5564 5565 5567 5568 5570 5571 5573 5574 5576 5577 5579 5580 5582 5583 5585 5586 5588 5589 5591 5592 5594 5595 5597 5598 5600 5601 5603 5604 5606 5607 5609 5610 5612 5613 5615 5616 5618 5619 5621 5622 5624 5625 5627 5628 5630 5631 5633 5634 5636 5637 5639 5640 5642 5643 5645 5646 5648 5649 5651 5652 5654 5655 5657 5658 5660 5661 5663 5664 5666 5667 5669 5670 5672 5673 5675 5676 5678 5679 5681 5682 5684 5685 5687 5688 5690 5691 5693 5694 5696 5697 5699 5700 5702 5703 5705 5706 5708 5709 5711 5712 5714 5715 5717 5718 5720 5721 5723 5724 5726 5727 5729 5730 5732 5733 5735 5736 5738 5739 5741 5742 5744 5745 5747 5748 5750 5751 5753 5754 5756 5757 5759 5760 5762 5763 5765 5766 5768 5769 5771 5772 5774 5775 5777 5778 5780 5781 5783 5784 5786 5787 5789 5790 5792 5793 5795 5796 5798 5799 5801 5802 5804 5805 5807 5808 5810 5811 5813 5814 5816 5817 5819 5820 5822 5823 5825 5826 5828 5829 5831 5832 5834 5835 5837 5838 5840 5841 5843 5844 5846 5847 5849 5850 5852 5853 5855 5856 5858 5859 5861 5862 5864 5865 5867 5868 5870 5871 5873 5874 5876 5877 5879 5880 5882 5883 5885 5886 5888 5889 5891 5892 5894 5895 5897 5898 5900 5901 5903 5904 5906 5907 5909 5910 5912 5913 5915 5916 5918 5919 5921 5922 5924 5925 5927 5928 5930 5931 5933 5934 5936 5937 5939 5940 5942 5943 5945 5946 5948 5949 5951 5952 5954 5955 5957 5958 5960 5961 5963 5964 5966 5967 5969 5970 5972 5973 5975 5976 5978 5979 5981 5982 5984 5985 5987 5988 5990 5991 5993 5994 5996 5997 5999 6000 6002 6003 6005 6006 6008 6009 6011 6012 6014 6015 6017 6018 6020 6021 6023 6024 6026 6027 6029 6030 6032 6033 6035 6036 6038 6039 6041 6042 6044 6045 6047 6048 6050 6051 6053 6054 6056 6057 6059 6060 6062 6063 6065 6066 6068 6069 6071 6072 6074 6075 6077 6078 6080 6081 6083 6084 6086 6087 6089 6090 6092 6093 6095 6096 6098 6099 6101 6102 6104 6105 6107 6108 6110 6111 6113 6114 6116 6117 6119 6120 6122 6123 6125 6126 6128 6129 6131 6132 6134 6135 6137 6138 6140 6141 6143 6144 6146 6147 6149 6150 6152 6153 6155 6156 6158 6159 6161 6162 6164 6165 6167 6168 6170 6171 6173 6174 6176 6177 6179 6180 6182 6183 6185 6186 6188 6189 6191 6192 6194 6195 6197 6198 6200 6201 6203 6204 6206 6207 6209 6210 6212 6213 6215 6216 6218 6219 6221 6222 6224 6225 6227 6228 6230 6231 6233 6234 6236 6237 6239 6240 6242 6243 6245 6246 6248 6249 6251 6252 6254 6255 6257 6258 6260 6261 6263 6264 6266 6267 6269 6270 6272 6273 6275 6276 6278 6279 6281 6282 6284 6285 6287 6288 6290 6291 6293 6294 6296 6297 6299 6300 6302 6303 6305 6306 6308 6309 6311 6312 6314 6315 6317 6318 6320 6321 6323 6324 6326 6327 6329 6330 6332 6333 6335 6336 6338 6339 6341 6342 6344 6345 6347 6348 6350 6351 6353 6354 6356 6357 6359 6360 6362 6363 6365 6366 6368 6369 6371 6372 6374 6375 6377 6378 6380 6381 6383 6384 6386 6387 6389 6390 6392 6393 6395 6396 6398 6399 6401 6402 6404 6405 6407 6408 6410 6411 6413 6414 6416 6417 6419 6420 6422 6423 6425 6426 6428 6429 6431 6432 6434 6435 6437 6438 6440 6441 6443 6444 6446 6447 6449 6450 6452 6453 6455 6456 6458 6459 6461 6462 6464 6465 6467 6468 6470 6471 6473 6474 6476 6477 6479 6480 6482 6483 6485 6486 6488 6489 6491 6492 6494 6495 6497 6498 6500 6501 6503 6504 6506 6507 6509 6510 6512 6513 6515 6516 6518 6519 6521 6522 6524 6525 6527 6528 6530 6531 6533 6534 6536 6537 6539 6540 6542 6543 6545 6546 6548 6549 6551 6552 6554 6555 6557 6558 6560 6561 6563 6564 6566 6567 6569 6570 6572 6573 6575 6576 6578 6579} R_0=0.25\n",
      "ce: CENTER ATOMS={1 2 3 4 5 6 7 8 9 10 11 12 13 14 15 16 17 18 19 20 21 22 23 24 25 26 27 28 29 30 31 32 33 34 35 36 37 38 39 40 41 42 43 44 45 46 47 48 49 50 51 52 53 54 55 56 57 58 59 60 61 62 63 64 65 66 67 68 69 70 71 72 73 74 75 76 77 78 79 80 81 82 83 84 85 86 87 88 89 90 91 92 93 94 95 96 97 98 99 100 101 102 103 104 105 106 107 108 109 110 111 112 113 114 115 116 117 118 119 120 121 122 123 124 125 126 127 128 129 130 131 132 133 134 135 136 137 138 139 140 141 142 143 144 145 146 147 148 149 150 151 152 153 154 155 156 157 158 159 160 161 162 163 164 165 166 167 168 169 170 171 172 173 174 175 176 177 178 179 180 181 182 183 184 185 186 187 188 189 190 191 192 193 194 195 196 197 198 199 200 201 202 203 204 205 206 207 208 209 210 211 212 213 214 215 216 217 218 219 220 221 222 223 224 225 226 227 228 229 230 231 232 233 234 235 236 237 238 239 240 241 242 243 244 245 246 247 248 249 250 251 252 253 254 255 256 257 258}\n",
      "d: DISTANCE ATOMS={6580 ce}\n",
      "PRINT ARG=r,c,co,ch,d FILE=COLVAR\n"
     ]
    }
   ],
   "source": [
    "builder.MOLINFO(STRUCTURE=\"ref.pdb\")\n",
    "# we do not use plumed groups here, but rather numpy arrays\n",
    "rna=traj.top.select(\"resname =~ 'R.*'\")+1\n",
    "mg=traj.top.select(\"name MG\")+1\n",
    "\n",
    "assert(len(mg)==1)\n",
    "owat = traj.top.select(\"water and name O\") +1\n",
    "hwat = traj.top.select(\"water and name H1 H2\") +1\n",
    "builder.GYRATION(\"r\",ATOMS=rna)\n",
    "builder.TORSION(\"c\",ATOMS=\"@chi-1\")\n",
    "builder.COORDINATION(\"co\",GROUPA=rna,GROUPB=owat,R_0=0.25)\n",
    "builder.COORDINATION(\"ch\",GROUPA=rna,GROUPB=hwat,R_0=0.25)\n",
    "builder.CENTER(\"ce\",ATOMS=rna)\n",
    "builder.DISTANCE(\"d\",ATOMS=(mg[0],\"ce\"))\n",
    "builder.PRINT(FILE=\"COLVAR\",ARG=\"r,c,co,ch,d\")\n",
    "# we then print the whole history so that you can see the commands:\n",
    "for l in builder.history:\n",
    "    print(l)"
   ]
  },
  {
   "cell_type": "markdown",
   "metadata": {},
   "source": [
    "Finally, we process the trajectory. Notice that we always delete the plumed object at the end in order to finalize the calculation."
   ]
  },
  {
   "cell_type": "code",
   "execution_count": 39,
   "metadata": {},
   "outputs": [
    {
     "data": {
      "text/plain": [
       "6133"
      ]
     },
     "execution_count": 39,
     "metadata": {},
     "output_type": "execute_result"
    }
   ],
   "source": [
    "for i in range(0,traj.n_frames):\n",
    "    p.cmd(\"setStep\",i)\n",
    "    coords=np.float64(traj.xyz[i,:,:])\n",
    "    forces=np.zeros((traj.n_atoms,3),dtype=np.float64)\n",
    "    virial=np.zeros((3,3),dtype=np.float64)\n",
    "    traj.unitcell_vectors\n",
    "    box=np.float64(traj.unitcell_vectors[i,:,:])\n",
    "    masses=np.array([a.element.mass for a in traj.top.atoms],np.float64)\n",
    "    p.cmd(\"setPositions\",coords)\n",
    "    p.cmd(\"setForces\",forces)\n",
    "    p.cmd(\"setVirial\",virial)\n",
    "    p.cmd(\"setBox\",box)\n",
    "    p.cmd(\"setMasses\",np.array([a.element.mass for a in traj.top.atoms]))\n",
    "    p.cmd(\"calc\")\n",
    "del p\n",
    "del builder\n",
    "gc.collect()"
   ]
  },
  {
   "cell_type": "markdown",
   "metadata": {},
   "source": [
    "And here you can see the result"
   ]
  },
  {
   "cell_type": "code",
   "execution_count": 40,
   "metadata": {},
   "outputs": [
    {
     "name": "stdout",
     "output_type": "stream",
     "text": [
      "#! FIELDS time r c co ch d\r\n",
      "#! SET min_c -pi\r\n",
      "#! SET max_c pi\r\n",
      " 0.000000 0.788694 -2.963153 206.199641 498.826542 0.595611\r\n",
      " 0.000000 0.804101 -2.717304 206.427308 496.593226 0.951945\r\n",
      " 0.000000 0.788769 -2.939333 206.744738 497.333158 1.014850\r\n",
      " 0.000000 0.790232 -2.940730 209.695116 511.577794 1.249502\r\n",
      " 0.000000 0.796395 3.050947 210.755477 504.675821 2.270682\r\n"
     ]
    }
   ],
   "source": [
    "!cat \"COLVAR\""
   ]
  },
  {
   "cell_type": "markdown",
   "metadata": {},
   "source": [
    "### TODO\n",
    "When using the `toplumed` option it would be possible to store in the InputBuilder the list of all the labels defined in the Plumed object. This would allow something like (**not implemented yet!**): \n",
    "````python\n",
    "ib.DISTANCE(\"d\",ATOMS=(1,2),COMPONENTS=True)\n",
    "ib.RESTRAINT(ARG=ib.label[\"d.<TAB>\n",
    "````\n",
    "This could show `x` `y` and `z`. This requires modifying PLUMED to retrieve the defined label names.\n",
    "\n",
    "Notice that something like this would be impossible when not using a `Plumed` object. Indeed, the only way to know which are the available components is to run a real PLUMED instance."
   ]
  },
  {
   "cell_type": "markdown",
   "metadata": {},
   "source": [
    "# Implementation notes"
   ]
  },
  {
   "cell_type": "markdown",
   "metadata": {},
   "source": [
    "## Appending underscores to action names\n",
    "\n",
    "\n",
    "There is a problem in jupyter autocompletion in old ipython implementations. Try the following definitions:"
   ]
  },
  {
   "cell_type": "code",
   "execution_count": 41,
   "metadata": {},
   "outputs": [],
   "source": [
    "def A(one):\n",
    "    pass\n",
    "def AA(two):\n",
    "    pass"
   ]
  },
  {
   "cell_type": "markdown",
   "metadata": {},
   "source": [
    "Now type `A(<TAB>`. You might erroneously see both `one` and `two` as possible arguments. You can try to use `ib=plumed.InputBuilder(append_underscores=True)` to have modified action names (e.g. `ib.METAD__()`) to overcome issues of this type.\n",
    "\n",
    "Notice that the flag `append_underscores` only affect the explicitly declared methods of the `InputBuilder` object. However, you are free to call the names with or without the underscores, as you prefer, irrespectively of the value of the `append_underscores` flag. In other words, this flag only controls what happens when you use autocompletion and is only useful if you have old jupyter notebooks."
   ]
  },
  {
   "cell_type": "markdown",
   "metadata": {},
   "source": [
    "## How are the functions created\n",
    "\n",
    "A dictionary is first constructed by properly manipulating the VIM syntax file. The resulting dictionary is stored in `ib._vimdict`, so you can see it. The keys are all the available actions:"
   ]
  },
  {
   "cell_type": "code",
   "execution_count": 42,
   "metadata": {},
   "outputs": [
    {
     "name": "stdout",
     "output_type": "stream",
     "text": [
      "dict_keys(['ABMD', 'ADAPTIVE_PATH', 'ALPHABETA', 'ALPHARMSD', 'ANGLE', 'ANGLES', 'ANTIBETARMSD', 'AROUND', 'AVERAGE', 'BIASVALUE', 'BRIDGE', 'CALIBER', 'CAVITY', 'CELL', 'CENTER', 'CENTER_OF_MULTICOLVAR', 'COLLECT_FRAMES', 'COM', 'COMBINE', 'COMMITTOR', 'CONSTANT', 'CONTACTMAP', 'CONVERT_TO_FES', 'COORDINATION', 'COORDINATIONNUMBER', 'CS2BACKBONE', 'CUSTOM', 'DEBUG', 'DENSITY', 'DHENERGY', 'DIHCOR', 'DIMER', 'DIPOLE', 'DISTANCE', 'DISTANCES', 'DISTANCE_FROM_CONTOUR', 'DRMSD', 'DUMPATOMS', 'DUMPCUBE', 'DUMPDERIVATIVES', 'DUMPFORCES', 'DUMPGRID', 'DUMPMASSCHARGE', 'DUMPMULTICOLVAR', 'DUMPPROJECTIONS', 'EEFSOLV', 'EFFECTIVE_ENERGY_DRIFT', 'EMMI', 'ENDPLUMED', 'ENERGY', 'ENSEMBLE', 'ERMSD', 'EUCLIDEAN_DISSIMILARITIES', 'EXTENDED_LAGRANGIAN', 'EXTERNAL', 'EXTRACV', 'FAKE', 'FIND_CONTOUR', 'FIND_CONTOUR_SURFACE', 'FIND_SPHERICAL_CONTOUR', 'FIT_TO_TEMPLATE', 'FIXEDATOM', 'FLUSH', 'FOURIER_TRANSFORM', 'FRET', 'FUNCPATHGENERAL', 'FUNCPATHMSD', 'FUNCSUMHILLS', 'GHOST', 'GPROPERTYMAP', 'GRID_TO_XYZ', 'GROUP', 'GYRATION', 'HISTOGRAM', 'INCLUDE', 'INCYLINDER', 'INENVELOPE', 'INPLANEDISTANCES', 'INSPHERE', 'INTEGRATE_GRID', 'INTERPOLATE_GRID', 'JCOUPLING', 'LANDMARK_SELECT_FPS', 'LANDMARK_SELECT_RANDOM', 'LANDMARK_SELECT_STAGED', 'LANDMARK_SELECT_STRIDE', 'LOAD', 'LOCALENSEMBLE', 'LOCAL_AVERAGE', 'LOWER_WALLS', 'MATHEVAL', 'MAXENT', 'MCOLV_COMBINE', 'MCOLV_PRODUCT', 'METAD', 'METAINFERENCE', 'MFILTER_BETWEEN', 'MFILTER_LESS', 'MFILTER_MORE', 'MOLINFO', 'MOVINGRESTRAINT', 'MTRANSFORM_BETWEEN', 'MTRANSFORM_LESS', 'MTRANSFORM_MORE', 'MULTICOLVARDENS', 'MULTI_RMSD', 'NLINKS', 'NOE', 'OUTPUT_ANALYSIS_DATA_TO_COLVAR', 'OUTPUT_ANALYSIS_DATA_TO_PDB', 'PARABETARMSD', 'PATH', 'PATHMSD', 'PBMETAD', 'PCARMSD', 'PCAVARS', 'PCS', 'PIECEWISE', 'PLUMED', 'POSITION', 'PRE', 'PRINT', 'PRINT_DISSIMILARITY_MATRIX', 'PROJECTION_ON_AXIS', 'PROPERTYMAP', 'PUCKERING', 'RANDOM_EXCHANGES', 'RDC', 'READ', 'READ_DISSIMILARITY_MATRIX', 'RESCALE', 'RESELECT_LANDMARKS', 'RESET_CELL', 'RESTART', 'RESTRAINT', 'REWEIGHT_BIAS', 'REWEIGHT_METAD', 'REWEIGHT_TEMP_PRESS', 'REWEIGHT_WHAM', 'RMSD', 'SAXS', 'SELECT', 'SELECTOR', 'SORT', 'STATS', 'TARGET', 'TEMPLATE', 'TETRAHEDRALPORE', 'TIME', 'TORSION', 'TORSIONS', 'UNITS', 'UPDATE_IF', 'UPPER_WALLS', 'VOLUME', 'WHAM_HISTOGRAM', 'WHAM_WEIGHTS', 'WHOLEMOLECULES', 'WRAPAROUND', 'XANGLES', 'XDISTANCES', 'XYDISTANCES', 'XYTORSIONS', 'XZDISTANCES', 'XZTORSIONS', 'YANGLES', 'YDISTANCES', 'YXTORSIONS', 'YZDISTANCES', 'YZTORSIONS', 'ZANGLES', 'ZDISTANCES', 'ZXTORSIONS', 'ZYTORSIONS'])\n"
     ]
    }
   ],
   "source": [
    "print(ib._vimdict.keys())"
   ]
  },
  {
   "cell_type": "markdown",
   "metadata": {},
   "source": [
    "The values provide further dictionaries that describe all the available keywords."
   ]
  },
  {
   "cell_type": "code",
   "execution_count": 43,
   "metadata": {},
   "outputs": [
    {
     "name": "stdout",
     "output_type": "stream",
     "text": [
      "{'ARG': '(numbered)', 'AT': '(option)', 'KAPPA': '(option)', 'NUMERICAL_DERIVATIVES': '(flag)', 'SLOPE': '(option)', 'STRIDE': '(option)'}\n"
     ]
    }
   ],
   "source": [
    "print(ib._vimdict[\"RESTRAINT\"])"
   ]
  },
  {
   "cell_type": "markdown",
   "metadata": {},
   "source": [
    "Notice that there is not much information stored here. We might improve it in the future."
   ]
  },
  {
   "cell_type": "markdown",
   "metadata": {},
   "source": [
    "After this dictionary is read, it is used to dynamically create functions capable to generate an input file. These are standalone functions, and you can see their definitions in the dictionary `ib._functions`. Notice that this is python code that also defines the docstring of the function itself dynamically."
   ]
  },
  {
   "cell_type": "code",
   "execution_count": 44,
   "metadata": {},
   "outputs": [
    {
     "name": "stdout",
     "output_type": "stream",
     "text": [
      "def RESTRAINT(self,LABEL=\"\",verbatim=None,*,ARG=None,AT=None,KAPPA=None,NUMERICAL_DERIVATIVES=False,SLOPE=None,STRIDE=None,**kwargs):\n",
      "  ret=\"\"\n",
      "  ret+=_format_label(self,LABEL)\n",
      "  ret+=\"RESTRAINT\"\n",
      "  retlist=[]\n",
      "  retlist.append(_format_numbered(self,\"ARG\",ARG))\n",
      "  retlist.append(_format_opt(self,\"AT\",AT))\n",
      "  retlist.append(_format_opt(self,\"KAPPA\",KAPPA))\n",
      "  retlist.append(_format_flag(self,\"NUMERICAL_DERIVATIVES\",NUMERICAL_DERIVATIVES))\n",
      "  retlist.append(_format_opt(self,\"SLOPE\",SLOPE))\n",
      "  retlist.append(_format_opt(self,\"STRIDE\",STRIDE))\n",
      "  for arg in kwargs:\n",
      "      import re\n",
      "      allowed=[]\n",
      "      allowed.append(\"ARG\")\n",
      "      allowed.append(\"AT\")\n",
      "      allowed.append(\"KAPPA\")\n",
      "      allowed.append(\"NUMERICAL_DERIVATIVES\")\n",
      "      allowed.append(\"SLOPE\")\n",
      "      allowed.append(\"STRIDE\")\n",
      "      if not re.sub(\"[0-9]*$\",\"\",arg) in allowed:\n",
      "         raise TypeError(\"unknown arg \" + arg)\n",
      "      retlist.append(_format_anything(self,arg,kwargs[arg]))\n",
      "  retlist.sort()\n",
      "  for x in retlist:\n",
      "      if(len(x)>0):\n",
      "          ret+=x\n",
      "  ret+=_format_verbatim(self,verbatim)\n",
      "  return _format_return(self,ret)\n",
      "RESTRAINT.__doc__ = \"\"\"\n",
      "Create action RESTRAINT\n",
      "\n",
      "The following arguments are compulsory: \n",
      "\n",
      "                  SLOPE - ( default=0.0 ) specifies that the restraint is linear and \n",
      "                          what the values of the force constants on each of the variables \n",
      "                          are \n",
      "                  KAPPA - ( default=0.0 ) specifies that the restraint is harmonic \n",
      "                          and what the values of the force constants on each of the \n",
      "                          variables are \n",
      "                     AT - the position of the restraint \n",
      "\n",
      "In addition you may use the following options: \n",
      "\n",
      "  NUMERICAL_DERIVATIVES - ( default=off ) calculate the derivatives for these \n",
      "                          quantities numerically \n",
      "                    ARG - the input for this action is the scalar output from one or \n",
      "                          more other actions. The particular scalars that you will use are \n",
      "                          referenced using the label of the action. If the label appears on its \n",
      "                          own then it is assumed that the Action calculates a single \n",
      "                          scalar value. The value of this scalar is thus used as the input \n",
      "                          to this new action. If * or *.* appears the scalars calculated \n",
      "                          by all the proceeding actions in the input file are taken. \n",
      "                          Some actions have multi-component outputs and each component of \n",
      "                          the output has a specific label. For example a ref DISTANCE \n",
      "                          action labelled dist may have three components x, y and z. To take \n",
      "                          just the x component you should use dist.x, if you wish to take \n",
      "                          all three components then use dist.*.More information on the \n",
      "                          referencing of Actions can be found in the section of the manual on the \n",
      "                          PLUMED ref Syntax. Scalar values can also be referenced using \n",
      "                          POSIX regular expressions as detailed in the section on ref \n",
      "                          Regex. To use this feature you you must compile PLUMED with the \n",
      "                          appropriate flag. You can use multiple instances of this keyword i.e. \n",
      "                          ARG1, ARG2, ARG3... \n",
      "\n",
      "\n",
      "\"\"\"\n",
      "\n"
     ]
    }
   ],
   "source": [
    "print(ib._functions[\"RESTRAINT\"])"
   ]
  },
  {
   "cell_type": "markdown",
   "metadata": {},
   "source": [
    "These functions are then bound to be methods of the `InputBuilder` class and can be used as we have seen in the examples above."
   ]
  },
  {
   "cell_type": "markdown",
   "metadata": {},
   "source": [
    "## A note on efficiency\n",
    "\n",
    "Efficiency in creating the input file should not be a problem. However, notice that creating an object of class `InputBuilder()` takes a fraction of a second in order to setup all the action methods."
   ]
  },
  {
   "cell_type": "code",
   "execution_count": 45,
   "metadata": {},
   "outputs": [
    {
     "name": "stdout",
     "output_type": "stream",
     "text": [
      "Time to create an InputBuilder: 0.13217849190000094\n"
     ]
    }
   ],
   "source": [
    "import timeit\n",
    "print(\"Time to create an InputBuilder: \" + str(timeit.timeit(lambda: plumed.InputBuilder(),number=10)/10))"
   ]
  },
  {
   "cell_type": "markdown",
   "metadata": {},
   "source": [
    "If you want to make a script that creates a lot of different input files and then use them on a small number of frames this might be relevant. In this case, you might want to create a lighter version of the builder that does not encode any dictionary using the `load_dict=False` option."
   ]
  },
  {
   "cell_type": "code",
   "execution_count": 46,
   "metadata": {},
   "outputs": [
    {
     "name": "stdout",
     "output_type": "stream",
     "text": [
      "Time to create an InputBuilder: 0.0011736058999986198\n"
     ]
    }
   ],
   "source": [
    "import timeit\n",
    "print(\"Time to create an InputBuilder: \" + str(timeit.timeit(lambda: plumed.InputBuilder(load_dict=False),number=10)/10))"
   ]
  },
  {
   "cell_type": "markdown",
   "metadata": {},
   "source": [
    "This builder has some limitations in the fact that it does not allow autocompletion and does not contain the documentation of the PLUMED actions. However, it can be used identically to a regular builder"
   ]
  },
  {
   "cell_type": "code",
   "execution_count": 47,
   "metadata": {},
   "outputs": [],
   "source": [
    "fast=plumed.InputBuilder(load_dict=False)"
   ]
  },
  {
   "cell_type": "code",
   "execution_count": 48,
   "metadata": {},
   "outputs": [
    {
     "data": {
      "text/plain": [
       "'phi: TORSION ATOMS=5,7,9,15\\n'"
      ]
     },
     "execution_count": 48,
     "metadata": {},
     "output_type": "execute_result"
    }
   ],
   "source": [
    "fast.TORSION(\"phi\",ATOMS=\"5,7,9,15\")"
   ]
  },
  {
   "cell_type": "code",
   "execution_count": 49,
   "metadata": {},
   "outputs": [
    {
     "data": {
      "text/plain": [
       "'MOVINGRESTRAINT ARG=d1 AT0=20 AT1=20 KAPPA0=0 KAPPA1=10.0 STEP0=1 STEP1=10000\\n'"
      ]
     },
     "execution_count": 49,
     "metadata": {},
     "output_type": "execute_result"
    }
   ],
   "source": [
    "fast.MOVINGRESTRAINT(ARG=\"d1\",KAPPA=ib.numbered([0,10.0]),AT=ib.numbered([20,20]),STEP=ib.numbered([1,10000]))"
   ]
  },
  {
   "cell_type": "code",
   "execution_count": null,
   "metadata": {},
   "outputs": [],
   "source": []
  }
 ],
 "metadata": {
  "hide_input": false,
  "kernelspec": {
   "display_name": "Python 3",
   "language": "python",
   "name": "python3"
  },
  "language_info": {
   "codemirror_mode": {
    "name": "ipython",
    "version": 3
   },
   "file_extension": ".py",
   "mimetype": "text/x-python",
   "name": "python",
   "nbconvert_exporter": "python",
   "pygments_lexer": "ipython3",
   "version": "3.7.9"
  },
  "latex_envs": {
   "LaTeX_envs_menu_present": true,
   "autoclose": false,
   "autocomplete": true,
   "bibliofile": "biblio.bib",
   "cite_by": "apalike",
   "current_citInitial": 1,
   "eqLabelWithNumbers": true,
   "eqNumInitial": 1,
   "hotkeys": {
    "equation": "Ctrl-E",
    "itemize": "Ctrl-I"
   },
   "labels_anchors": false,
   "latex_user_defs": false,
   "report_style_numbering": false,
   "user_envs_cfg": false
  },
  "varInspector": {
   "cols": {
    "lenName": 16,
    "lenType": 16,
    "lenVar": 40
   },
   "kernels_config": {
    "python": {
     "delete_cmd_postfix": "",
     "delete_cmd_prefix": "del ",
     "library": "var_list.py",
     "varRefreshCmd": "print(var_dic_list())"
    },
    "r": {
     "delete_cmd_postfix": ") ",
     "delete_cmd_prefix": "rm(",
     "library": "var_list.r",
     "varRefreshCmd": "cat(var_dic_list()) "
    }
   },
   "types_to_exclude": [
    "module",
    "function",
    "builtin_function_or_method",
    "instance",
    "_Feature"
   ],
   "window_display": false
  }
 },
 "nbformat": 4,
 "nbformat_minor": 2
}
